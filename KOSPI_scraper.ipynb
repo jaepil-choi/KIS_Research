{
 "cells": [
  {
   "cell_type": "markdown",
   "metadata": {},
   "source": [
    "# KOSPI 반도체 섹터 기업 주가, 거래량 크롤링 from Naver Finance"
   ]
  },
  {
   "cell_type": "markdown",
   "metadata": {},
   "source": [
    "증권사 API를 쓰지 않고 크롤링으로 주가 데이터를 가져올 때 수정종가(Adjusted Close)를 가져오는 것이 큰 난관이다. \n",
    "\n",
    "네이버의 일별시셰 페이지는 단순 시가를 보여주고 수정종가를 보여주지 않기 때문에 네이버의 차트 페이지의 xml페이지를 불러 데이터를 가져와야 한다. \n",
    "\n",
    "검색해보니 종전에는 다음(카카오) 파이넌스에서 수정종가를 제공하여 크롤링을 많이 했다고 하는데, 현재는 http request를 통한 시세 페이지 접근을 막은 것으로 보인다. \n",
    "\n",
    "http://henryquant.blogspot.com/2018/11/r.html 를 참고하였다. "
   ]
  },
  {
   "cell_type": "code",
   "execution_count": 3,
   "metadata": {},
   "outputs": [],
   "source": [
    "import pandas as pd\n",
    "from urllib.request import urlopen\n",
    "from bs4 import BeautifulSoup as bs"
   ]
  },
  {
   "cell_type": "code",
   "execution_count": 54,
   "metadata": {},
   "outputs": [],
   "source": [
    "ticker = ''\n",
    "daycount = 570 # from 20161227 ~ 20190429\n",
    "stock_xml_url = \"https://fchart.stock.naver.com/sise.nhn?symbol={ticker}&timeframe=day&count={daycount}&requestType=0\".format(ticker=ticker, daycount=daycount) "
   ]
  },
  {
   "cell_type": "markdown",
   "metadata": {},
   "source": [
    "우선 네이버 파이넌스의 '반도체와 반도체장비' 업종 내 종목들 중 KOSPI 종목들만 ticker을 가져온다. \n",
    "\n",
    "페이지의 html 내에서 ticker는 쉽게 가져올 수 있지만 KOSPI/KOSDAQ 여부는 조금 번거롭지만 종목명 뒤에 *이 달려있는지 달려있지 않은지를 통해 필터해야 한다. "
   ]
  },
  {
   "cell_type": "code",
   "execution_count": 55,
   "metadata": {},
   "outputs": [],
   "source": [
    "semiconductor_html = urlopen(\"https://finance.naver.com/sise/sise_group_detail.nhn?type=upjong&no=202\")\n",
    "semiconductor_bs = bs(semiconductor_html.read(), 'html.parser')"
   ]
  },
  {
   "cell_type": "code",
   "execution_count": 56,
   "metadata": {},
   "outputs": [],
   "source": [
    "ticker_list = []\n",
    "\n",
    "for tr in semiconductor_bs.find('table', {'summary':'업종별 시세 리스트'}).find_all('tr')[1:]:\n",
    "    if not tr.td.span:\n",
    "        continue\n",
    "    \n",
    "    if tr.td.span.get_text() != '*': # 코스닥 종목은 *. 코스피는 *가 없다. \n",
    "        ticker_list.append(tr.td.a.attrs['href'])\n",
    "\n",
    "ticker_list = [x[-6:] for x in ticker_list] # Naver의 반도체와 반도체 장비 업종 내 KOSPI 종목들 ticker리스트. eg: 003160"
   ]
  },
  {
   "cell_type": "code",
   "execution_count": 57,
   "metadata": {},
   "outputs": [
    {
     "data": {
      "text/plain": [
       "['003160',\n",
       " '077500',\n",
       " '281820',\n",
       " '000990',\n",
       " '005930',\n",
       " '042700',\n",
       " '000660',\n",
       " '029460',\n",
       " '000995',\n",
       " '005935',\n",
       " '195870',\n",
       " '092220',\n",
       " '006200',\n",
       " '025560']"
      ]
     },
     "execution_count": 57,
     "metadata": {},
     "output_type": "execute_result"
    }
   ],
   "source": [
    "ticker_list"
   ]
  },
  {
   "cell_type": "code",
   "execution_count": null,
   "metadata": {},
   "outputs": [],
   "source": []
  }
 ],
 "metadata": {
  "kernelspec": {
   "display_name": "Python 3",
   "language": "python",
   "name": "python3"
  },
  "language_info": {
   "codemirror_mode": {
    "name": "ipython",
    "version": 3
   },
   "file_extension": ".py",
   "mimetype": "text/x-python",
   "name": "python",
   "nbconvert_exporter": "python",
   "pygments_lexer": "ipython3",
   "version": "3.6.5"
  }
 },
 "nbformat": 4,
 "nbformat_minor": 2
}
