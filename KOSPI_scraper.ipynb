{
 "cells": [
  {
   "cell_type": "markdown",
   "metadata": {},
   "source": [
    "# KOSPI 반도체 섹터 기업 주가, 거래량 크롤링 from Naver Finance"
   ]
  },
  {
   "cell_type": "markdown",
   "metadata": {},
   "source": [
    "증권사 API를 쓰지 않고 크롤링으로 주가 데이터를 가져올 때 수정종가(Adjusted Close)를 가져오는 것이 큰 난관이다. \n",
    "\n",
    "네이버의 일별시셰 페이지는 단순 시가를 보여주고 수정종가를 보여주지 않기 때문에 네이버의 차트 페이지의 xml페이지를 불러 데이터를 가져와야 한다. \n",
    "\n",
    "검색해보니 종전에는 다음(카카오) 파이넌스에서 수정종가를 제공하여 크롤링을 많이 했다고 하는데, 현재는 http request를 통한 시세 페이지 접근을 막은 것으로 보인다. \n",
    "\n",
    "http://henryquant.blogspot.com/2018/11/r.html 를 참고하였다. "
   ]
  },
  {
   "cell_type": "code",
   "execution_count": 83,
   "metadata": {},
   "outputs": [],
   "source": [
    "import pandas as pd\n",
    "from urllib.request import urlopen\n",
    "from bs4 import BeautifulSoup as bs"
   ]
  },
  {
   "cell_type": "markdown",
   "metadata": {},
   "source": [
    "우선 네이버 파이넌스의 '반도체와 반도체장비' 업종 내 종목들 중 KOSPI 종목들만 ticker을 가져온다. \n",
    "\n",
    "페이지의 html 내에서 ticker는 쉽게 가져올 수 있지만 KOSPI/KOSDAQ 여부는 조금 번거롭지만 종목명 뒤에 *이 달려있는지 달려있지 않은지를 통해 필터해야 한다. "
   ]
  },
  {
   "cell_type": "code",
   "execution_count": 55,
   "metadata": {},
   "outputs": [],
   "source": [
    "semiconductor_html = urlopen(\"https://finance.naver.com/sise/sise_group_detail.nhn?type=upjong&no=202\")\n",
    "semiconductor_bs = bs(semiconductor_html.read(), 'html.parser')"
   ]
  },
  {
   "cell_type": "code",
   "execution_count": 117,
   "metadata": {},
   "outputs": [],
   "source": [
    "ticker_dic = {}\n",
    "\n",
    "for tr in semiconductor_bs.find('table', {'summary':'업종별 시세 리스트'}).find_all('tr')[1:]:\n",
    "    if not tr.td.span:\n",
    "        continue\n",
    "    \n",
    "    if tr.td.span.get_text() != '*': # 코스닥 종목은 *. 코스피는 *가 없다. \n",
    "        ticker_dic[tr.td.a.attrs['href'][-6:]] = tr.td.a.get_text() # Naver의 반도체와 반도체 장비 업종 내 KOSPI 종목들 ticker 딕셔너리 eg: '003160':'디아이'"
   ]
  },
  {
   "cell_type": "code",
   "execution_count": 118,
   "metadata": {},
   "outputs": [
    {
     "data": {
      "text/plain": [
       "{'003160': '디아이',\n",
       " '077500': '유니퀘스트',\n",
       " '281820': '케이씨텍',\n",
       " '000990': 'DB하이텍',\n",
       " '005930': '삼성전자',\n",
       " '042700': '한미반도체',\n",
       " '000660': 'SK하이닉스',\n",
       " '029460': '케이씨',\n",
       " '000995': 'DB하이텍1우',\n",
       " '005935': '삼성전자우',\n",
       " '195870': '해성디에스',\n",
       " '092220': 'KEC',\n",
       " '006200': '한국전자홀딩스',\n",
       " '025560': '미래산업'}"
      ]
     },
     "execution_count": 118,
     "metadata": {},
     "output_type": "execute_result"
    }
   ],
   "source": [
    "ticker_dic"
   ]
  },
  {
   "cell_type": "markdown",
   "metadata": {},
   "source": [
    "이제 각 종목의 20161207 부터의 일별 데이터를 가져온다. (날짜, 수정종가) \n",
    "\n",
    "거래량, 고가, 저가 등도 가져올 수 있으나 dataframe을 어떤 구조로 짜서 어떻게 사용할 것인지 생각해봐야 한다. 따라서 일단 수정 종가로만 하기로 한다. "
   ]
  },
  {
   "cell_type": "code",
   "execution_count": 136,
   "metadata": {},
   "outputs": [],
   "source": [
    "daycount = 570 # from 20161227 ~ 20190429\n",
    "df = pd.DataFrame()\n",
    "\n",
    "for ticker, name in ticker_dic.items():\n",
    "    stock_xml_url = \"https://fchart.stock.naver.com/sise.nhn?symbol={ticker}&timeframe=day&count={daycount}&requestType=0\".format(ticker=ticker, daycount=str(daycount)) \n",
    "    \n",
    "    html = urlopen(stock_xml_url)\n",
    "    html_bs = bs(html.read(), 'html.parser')\n",
    "    \n",
    "    temp_df = pd.DataFrame(columns=['date', name])\n",
    "\n",
    "    for i in html_bs.find_all('item'):\n",
    "        data = i.attrs['data'].split(\"|\") # 날짜, 시가, 고가, 저가, 종가, 거래량\n",
    "        data = {'date':data[0], name:data[4]} # adj.close \n",
    "        temp_df = temp_df.append(data, ignore_index=True)\n",
    "    \n",
    "    if df.empty:\n",
    "        df = temp_df\n",
    "    else:\n",
    "        df = df.merge(temp_df, on='date', how='left') # how='inner'일 경우 20171205~. 케이씨텍 때문. "
   ]
  },
  {
   "cell_type": "code",
   "execution_count": 138,
   "metadata": {},
   "outputs": [
    {
     "data": {
      "text/html": [
       "<div>\n",
       "<style scoped>\n",
       "    .dataframe tbody tr th:only-of-type {\n",
       "        vertical-align: middle;\n",
       "    }\n",
       "\n",
       "    .dataframe tbody tr th {\n",
       "        vertical-align: top;\n",
       "    }\n",
       "\n",
       "    .dataframe thead th {\n",
       "        text-align: right;\n",
       "    }\n",
       "</style>\n",
       "<table border=\"1\" class=\"dataframe\">\n",
       "  <thead>\n",
       "    <tr style=\"text-align: right;\">\n",
       "      <th></th>\n",
       "      <th>date</th>\n",
       "      <th>디아이</th>\n",
       "      <th>유니퀘스트</th>\n",
       "      <th>케이씨텍</th>\n",
       "      <th>DB하이텍</th>\n",
       "      <th>삼성전자</th>\n",
       "      <th>한미반도체</th>\n",
       "      <th>SK하이닉스</th>\n",
       "      <th>케이씨</th>\n",
       "      <th>DB하이텍1우</th>\n",
       "      <th>삼성전자우</th>\n",
       "      <th>해성디에스</th>\n",
       "      <th>KEC</th>\n",
       "      <th>한국전자홀딩스</th>\n",
       "      <th>미래산업</th>\n",
       "    </tr>\n",
       "  </thead>\n",
       "  <tbody>\n",
       "    <tr>\n",
       "      <th>0</th>\n",
       "      <td>20161227</td>\n",
       "      <td>4655</td>\n",
       "      <td>7350</td>\n",
       "      <td>NaN</td>\n",
       "      <td>16000</td>\n",
       "      <td>35980</td>\n",
       "      <td>6000</td>\n",
       "      <td>45650</td>\n",
       "      <td>12958</td>\n",
       "      <td>29750</td>\n",
       "      <td>28560</td>\n",
       "      <td>12400</td>\n",
       "      <td>996</td>\n",
       "      <td>915</td>\n",
       "      <td>291</td>\n",
       "    </tr>\n",
       "    <tr>\n",
       "      <th>1</th>\n",
       "      <td>20161228</td>\n",
       "      <td>4700</td>\n",
       "      <td>7020</td>\n",
       "      <td>NaN</td>\n",
       "      <td>15650</td>\n",
       "      <td>35760</td>\n",
       "      <td>6180</td>\n",
       "      <td>45350</td>\n",
       "      <td>13000</td>\n",
       "      <td>29600</td>\n",
       "      <td>28480</td>\n",
       "      <td>12750</td>\n",
       "      <td>1005</td>\n",
       "      <td>922</td>\n",
       "      <td>286</td>\n",
       "    </tr>\n",
       "    <tr>\n",
       "      <th>2</th>\n",
       "      <td>20161229</td>\n",
       "      <td>4705</td>\n",
       "      <td>7330</td>\n",
       "      <td>NaN</td>\n",
       "      <td>15900</td>\n",
       "      <td>36040</td>\n",
       "      <td>6180</td>\n",
       "      <td>44700</td>\n",
       "      <td>13417</td>\n",
       "      <td>29700</td>\n",
       "      <td>28660</td>\n",
       "      <td>12950</td>\n",
       "      <td>1000</td>\n",
       "      <td>931</td>\n",
       "      <td>283</td>\n",
       "    </tr>\n",
       "    <tr>\n",
       "      <th>3</th>\n",
       "      <td>20170102</td>\n",
       "      <td>4730</td>\n",
       "      <td>7160</td>\n",
       "      <td>NaN</td>\n",
       "      <td>16300</td>\n",
       "      <td>36100</td>\n",
       "      <td>6140</td>\n",
       "      <td>45800</td>\n",
       "      <td>13458</td>\n",
       "      <td>30550</td>\n",
       "      <td>28800</td>\n",
       "      <td>13000</td>\n",
       "      <td>1020</td>\n",
       "      <td>922</td>\n",
       "      <td>289</td>\n",
       "    </tr>\n",
       "    <tr>\n",
       "      <th>4</th>\n",
       "      <td>20170103</td>\n",
       "      <td>4900</td>\n",
       "      <td>7060</td>\n",
       "      <td>NaN</td>\n",
       "      <td>17250</td>\n",
       "      <td>36480</td>\n",
       "      <td>6160</td>\n",
       "      <td>47250</td>\n",
       "      <td>13208</td>\n",
       "      <td>30950</td>\n",
       "      <td>28780</td>\n",
       "      <td>13150</td>\n",
       "      <td>1035</td>\n",
       "      <td>932</td>\n",
       "      <td>290</td>\n",
       "    </tr>\n",
       "  </tbody>\n",
       "</table>\n",
       "</div>"
      ],
      "text/plain": [
       "       date   디아이 유니퀘스트 케이씨텍  DB하이텍   삼성전자 한미반도체 SK하이닉스    케이씨 DB하이텍1우  삼성전자우  \\\n",
       "0  20161227  4655  7350  NaN  16000  35980  6000  45650  12958   29750  28560   \n",
       "1  20161228  4700  7020  NaN  15650  35760  6180  45350  13000   29600  28480   \n",
       "2  20161229  4705  7330  NaN  15900  36040  6180  44700  13417   29700  28660   \n",
       "3  20170102  4730  7160  NaN  16300  36100  6140  45800  13458   30550  28800   \n",
       "4  20170103  4900  7060  NaN  17250  36480  6160  47250  13208   30950  28780   \n",
       "\n",
       "   해성디에스   KEC 한국전자홀딩스 미래산업  \n",
       "0  12400   996     915  291  \n",
       "1  12750  1005     922  286  \n",
       "2  12950  1000     931  283  \n",
       "3  13000  1020     922  289  \n",
       "4  13150  1035     932  290  "
      ]
     },
     "execution_count": 138,
     "metadata": {},
     "output_type": "execute_result"
    }
   ],
   "source": [
    "df.head()"
   ]
  },
  {
   "cell_type": "code",
   "execution_count": null,
   "metadata": {},
   "outputs": [],
   "source": []
  }
 ],
 "metadata": {
  "kernelspec": {
   "display_name": "Python 3",
   "language": "python",
   "name": "python3"
  },
  "language_info": {
   "codemirror_mode": {
    "name": "ipython",
    "version": 3
   },
   "file_extension": ".py",
   "mimetype": "text/x-python",
   "name": "python",
   "nbconvert_exporter": "python",
   "pygments_lexer": "ipython3",
   "version": "3.6.5"
  }
 },
 "nbformat": 4,
 "nbformat_minor": 2
}
