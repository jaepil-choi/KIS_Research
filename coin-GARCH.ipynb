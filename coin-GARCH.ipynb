{
 "cells": [
  {
   "cell_type": "code",
   "execution_count": 113,
   "metadata": {},
   "outputs": [],
   "source": [
    "import pandas as pd\n",
    "import numpy as np\n",
    "\n",
    "import statsmodels.api as sm\n",
    "import statsmodels.formula.api as smf\n",
    "\n",
    "import matplotlib.pyplot as plt \n",
    "import seaborn as sns\n",
    "\n",
    "import sklearn"
   ]
  },
  {
   "cell_type": "code",
   "execution_count": 114,
   "metadata": {},
   "outputs": [
    {
     "data": {
      "text/plain": [
       "Date            object\n",
       "Symbol          object\n",
       "Open           float64\n",
       "High           float64\n",
       "Low            float64\n",
       "Close          float64\n",
       "Volume BTC     float64\n",
       "Volume USDT    float64\n",
       "dtype: object"
      ]
     },
     "execution_count": 114,
     "metadata": {},
     "output_type": "execute_result"
    }
   ],
   "source": [
    "# Binance BTC daily data 2017-08-17 ~ 2019-06-05\n",
    "binance_d = pd.read_csv('./mydata/Binance_BTCUSDT_d.csv', header=1)\n",
    "binance_d.dtypes"
   ]
  },
  {
   "cell_type": "code",
   "execution_count": 115,
   "metadata": {},
   "outputs": [
    {
     "data": {
      "text/plain": [
       "Date            object\n",
       "Symbol          object\n",
       "Open           float64\n",
       "High           float64\n",
       "Low            float64\n",
       "Close          float64\n",
       "Volume BTC     float64\n",
       "Volume USDT    float64\n",
       "dtype: object"
      ]
     },
     "execution_count": 115,
     "metadata": {},
     "output_type": "execute_result"
    }
   ],
   "source": [
    "# Binance BTC hourly data 2017-08-17 04:00 ~ 2019-06-05 10:00\n",
    "binance_h = pd.read_csv('./mydata/Binance_BTCUSDT_1h.csv', header=1)\n",
    "binance_h.dtypes"
   ]
  },
  {
   "cell_type": "code",
   "execution_count": 116,
   "metadata": {},
   "outputs": [],
   "source": [
    "binance_d.Date = pd.to_datetime(binance_d.Date)\n",
    "binance_h.Date = pd.to_datetime(binance_h.Date, format='%Y-%m-%d %I-%p')\n",
    "\n",
    "binance_d.set_index('Date', inplace=True)\n",
    "binance_h.set_index('Date', inplace=True)"
   ]
  },
  {
   "cell_type": "code",
   "execution_count": 120,
   "metadata": {},
   "outputs": [],
   "source": [
    "binance_h = binance_h.iloc[::-1]\n",
    "binance_d = binance_d.iloc[::-1]\n",
    "\n",
    "# binance_d = binance_d[::-1] # 이건 순서를 바꾸지만 index가 그대로이다. \n",
    "# binance_h = binance_h[::-1]"
   ]
  },
  {
   "cell_type": "code",
   "execution_count": null,
   "metadata": {},
   "outputs": [],
   "source": []
  }
 ],
 "metadata": {
  "kernelspec": {
   "display_name": "Python 3",
   "language": "python",
   "name": "python3"
  },
  "language_info": {
   "codemirror_mode": {
    "name": "ipython",
    "version": 3
   },
   "file_extension": ".py",
   "mimetype": "text/x-python",
   "name": "python",
   "nbconvert_exporter": "python",
   "pygments_lexer": "ipython3",
   "version": "3.6.5"
  }
 },
 "nbformat": 4,
 "nbformat_minor": 2
}
