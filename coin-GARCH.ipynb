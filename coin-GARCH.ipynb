{
 "cells": [
  {
   "cell_type": "markdown",
   "metadata": {},
   "source": [
    "# 비트코인 데이터를 통해 Leveragte Effect가 있는지 확인하고 이에 적합한 GARCH 모델 수립. "
   ]
  },
  {
   "cell_type": "code",
   "execution_count": 22,
   "metadata": {},
   "outputs": [],
   "source": [
    "import pandas as pd\n",
    "import numpy as np\n",
    "\n",
    "import statsmodels.api as sm\n",
    "import statsmodels.formula.api as smf\n",
    "import statsmodels.graphics as smg\n",
    "import statsmodels.tsa as smt\n",
    "from patsy import dmatrices\n",
    "\n",
    "import matplotlib.pyplot as plt \n",
    "import seaborn as sns\n",
    "\n",
    "import sklearn"
   ]
  },
  {
   "cell_type": "markdown",
   "metadata": {},
   "source": [
    "## 1. 데이터 불러오기\n",
    "\n",
    "Binance(최대 규모 코인 거래소 중 하나)의 비트코인 일별/시간별 데이터"
   ]
  },
  {
   "cell_type": "code",
   "execution_count": 2,
   "metadata": {},
   "outputs": [
    {
     "data": {
      "text/plain": [
       "Date            object\n",
       "Symbol          object\n",
       "Open           float64\n",
       "High           float64\n",
       "Low            float64\n",
       "Close          float64\n",
       "Volume BTC     float64\n",
       "Volume USDT    float64\n",
       "dtype: object"
      ]
     },
     "execution_count": 2,
     "metadata": {},
     "output_type": "execute_result"
    }
   ],
   "source": [
    "# Binance BTC daily data 2017-08-17 ~ 2019-06-05\n",
    "binance_d = pd.read_csv('./mydata/Binance_BTCUSDT_d.csv', header=1)\n",
    "binance_d.dtypes"
   ]
  },
  {
   "cell_type": "code",
   "execution_count": 3,
   "metadata": {},
   "outputs": [
    {
     "data": {
      "text/plain": [
       "Date            object\n",
       "Symbol          object\n",
       "Open           float64\n",
       "High           float64\n",
       "Low            float64\n",
       "Close          float64\n",
       "Volume BTC     float64\n",
       "Volume USDT    float64\n",
       "dtype: object"
      ]
     },
     "execution_count": 3,
     "metadata": {},
     "output_type": "execute_result"
    }
   ],
   "source": [
    "# Binance BTC hourly data 2017-08-17 04:00 ~ 2019-06-05 10:00\n",
    "binance_h = pd.read_csv('./mydata/Binance_BTCUSDT_1h.csv', header=1)\n",
    "binance_h.dtypes"
   ]
  },
  {
   "cell_type": "code",
   "execution_count": 4,
   "metadata": {},
   "outputs": [],
   "source": [
    "binance_d.Date = pd.to_datetime(binance_d.Date)\n",
    "binance_h.Date = pd.to_datetime(binance_h.Date, format='%Y-%m-%d %I-%p')\n",
    "\n",
    "binance_d.set_index('Date', inplace=True)\n",
    "binance_h.set_index('Date', inplace=True)"
   ]
  },
  {
   "cell_type": "code",
   "execution_count": 5,
   "metadata": {},
   "outputs": [],
   "source": [
    "binance_h = binance_h.iloc[::-1]\n",
    "binance_d = binance_d.iloc[::-1]\n",
    "\n",
    "# binance_d = binance_d[::-1] # 이건 순서를 바꾸지만 index가 그대로이다. \n",
    "# binance_h = binance_h[::-1]"
   ]
  },
  {
   "cell_type": "markdown",
   "metadata": {},
   "source": [
    "## 2. Stationarity 확인 - unit root test\n",
    "\n",
    "** 일단 분석은 Intra day, high frequency인 hourly data 대신 daily data를 이용한다. "
   ]
  },
  {
   "cell_type": "code",
   "execution_count": 8,
   "metadata": {},
   "outputs": [],
   "source": [
    "binance_d = binance_d.Close"
   ]
  },
  {
   "cell_type": "code",
   "execution_count": 9,
   "metadata": {},
   "outputs": [
    {
     "data": {
      "text/plain": [
       "Date\n",
       "2017-08-17    4285.08\n",
       "2017-08-18    4108.37\n",
       "2017-08-19    4139.98\n",
       "2017-08-20    4086.29\n",
       "2017-08-21    4016.00\n",
       "Name: Close, dtype: float64"
      ]
     },
     "execution_count": 9,
     "metadata": {},
     "output_type": "execute_result"
    }
   ],
   "source": [
    "binance_d.head()"
   ]
  },
  {
   "cell_type": "code",
   "execution_count": 21,
   "metadata": {},
   "outputs": [
    {
     "data": {
      "text/plain": [
       "<matplotlib.axes._subplots.AxesSubplot at 0x202fef1f898>"
      ]
     },
     "execution_count": 21,
     "metadata": {},
     "output_type": "execute_result"
    },
    {
     "data": {
      "image/png": "[encoded data removed]",
      "text/plain": [
       "<Figure size 432x288 with 1 Axes>"
      ]
     },
     "metadata": {},
     "output_type": "display_data"
    }
   ],
   "source": [
    "# original data\n",
    "sns.set(style='darkgrid')\n",
    "sns.lineplot(data=binance_d)"
   ]
  },
  {
   "cell_type": "code",
   "execution_count": 26,
   "metadata": {},
   "outputs": [
    {
     "data": {
      "text/plain": [
       "(-2.390625610402797,\n",
       " 0.14439976067899607,\n",
       " 20,\n",
       " 625,\n",
       " {'1%': -3.440856177517568, '5%': -2.86617548304384, '10%': -2.56923863104},\n",
       " 9294.509714313388)"
      ]
     },
     "execution_count": 26,
     "metadata": {},
     "output_type": "execute_result"
    }
   ],
   "source": [
    "# ADF(Augumented Dickey-Fuller) unit root test (constant only)\n",
    "# H0: There is a unit root.\n",
    "\n",
    "smt.stattools.adfuller(binance_d) # default maxlag=12*(nobs/100)^{1/4}, regression='c'(constant only) autolag='AIC'\n",
    "\n",
    "# adf(test statistic) \n",
    "# pvalue \n",
    "# usedlag \n",
    "# nobs(number of observations used for the ADF regression and calculation of the critical values)\n",
    "# critical values\n",
    "# icbest(The maximized information criterion)"
   ]
  },
  {
   "cell_type": "code",
   "execution_count": 27,
   "metadata": {},
   "outputs": [
    {
     "data": {
      "text/plain": [
       "(-2.8953000053113334,\n",
       " 0.16373971722144037,\n",
       " 20,\n",
       " 625,\n",
       " {'1%': -3.97332828517888, '5%': -3.417537958011904, '10%': -3.13119709966848},\n",
       " 9293.69918078895)"
      ]
     },
     "execution_count": 27,
     "metadata": {},
     "output_type": "execute_result"
    }
   ],
   "source": [
    "# changing regression options (constant & trend)\n",
    "smt.stattools.adfuller(binance_d, regression='ct')"
   ]
  },
  {
   "cell_type": "code",
   "execution_count": 28,
   "metadata": {},
   "outputs": [
    {
     "data": {
      "text/plain": [
       "(-2.5889110414243364,\n",
       " 0.5181697235907579,\n",
       " 20,\n",
       " 625,\n",
       " {'1%': -4.389764184896512,\n",
       "  '5%': -3.841871578891264,\n",
       "  '10%': -3.559129170417664},\n",
       " 9295.381261300612)"
      ]
     },
     "execution_count": 28,
     "metadata": {},
     "output_type": "execute_result"
    }
   ],
   "source": [
    "# changing regression options (constant & linear and quadratic trend)\n",
    "smt.stattools.adfuller(binance_d, regression='ctt')"
   ]
  },
  {
   "cell_type": "code",
   "execution_count": 29,
   "metadata": {},
   "outputs": [
    {
     "data": {
      "text/plain": [
       "(-0.6971234349573727,\n",
       " 0.41382208979834006,\n",
       " 20,\n",
       " 625,\n",
       " {'1%': -2.56932656512, '5%': -1.9414382465105922, '10%': -1.616401883949056},\n",
       " 9297.952079530667)"
      ]
     },
     "execution_count": 29,
     "metadata": {},
     "output_type": "execute_result"
    }
   ],
   "source": [
    "# changing regression options (no constant, no trend)\n",
    "smt.stattools.adfuller(binance_d, regression='nc')"
   ]
  },
  {
   "cell_type": "markdown",
   "metadata": {},
   "source": [
    "All results show that we cannot reject H0 that there is a unit root. "
   ]
  },
  {
   "cell_type": "markdown",
   "metadata": {},
   "source": [
    "### 증가율로 변환, unit root 확인"
   ]
  },
  {
   "cell_type": "code",
   "execution_count": 32,
   "metadata": {},
   "outputs": [
    {
     "data": {
      "text/plain": [
       "Date\n",
       "2017-08-18   -0.041238\n",
       "2017-08-19    0.007694\n",
       "2017-08-20   -0.012969\n",
       "2017-08-21   -0.017201\n",
       "2017-08-22    0.005976\n",
       "Name: Close, dtype: float64"
      ]
     },
     "execution_count": 32,
     "metadata": {},
     "output_type": "execute_result"
    }
   ],
   "source": [
    "binance_d_return = binance_d.pct_change()\n",
    "binance_d_return = binance_d_return.iloc[1:]\n",
    "binance_d_return.head()"
   ]
  },
  {
   "cell_type": "code",
   "execution_count": 33,
   "metadata": {},
   "outputs": [
    {
     "data": {
      "text/plain": [
       "(-25.399667325520088,\n",
       " 0.0,\n",
       " 0,\n",
       " 644,\n",
       " {'1%': -3.440544963888275,\n",
       "  '5%': -2.866038402294262,\n",
       "  '10%': -2.569165592859072},\n",
       " -2084.109370839511)"
      ]
     },
     "execution_count": 33,
     "metadata": {},
     "output_type": "execute_result"
    }
   ],
   "source": [
    "# ADF(Augumented Dickey-Fuller) unit root test (constant only)\n",
    "# H0: There is a unit root\n",
    "\n",
    "smt.stattools.adfuller(binance_d_return) "
   ]
  },
  {
   "cell_type": "code",
   "execution_count": 34,
   "metadata": {},
   "outputs": [
    {
     "data": {
      "text/plain": [
       "(-25.395773193133316,\n",
       " 0.0,\n",
       " 0,\n",
       " 644,\n",
       " {'1%': -3.9728966557887846,\n",
       "  '5%': -3.4173293485410516,\n",
       "  '10%': -3.1310744544759865},\n",
       " -2082.3539761908655)"
      ]
     },
     "execution_count": 34,
     "metadata": {},
     "output_type": "execute_result"
    }
   ],
   "source": [
    "# changing regression options (constant & trend)\n",
    "smt.stattools.adfuller(binance_d_return, regression='ct')"
   ]
  },
  {
   "cell_type": "code",
   "execution_count": 35,
   "metadata": {},
   "outputs": [
    {
     "data": {
      "text/plain": [
       "(-25.608736160850427,\n",
       " 0.0,\n",
       " 0,\n",
       " 644,\n",
       " {'1%': -4.389211715854234,\n",
       "  '5%': -3.841590900020272,\n",
       "  '10%': -3.558955608999699},\n",
       " -2086.4629755885217)"
      ]
     },
     "execution_count": 35,
     "metadata": {},
     "output_type": "execute_result"
    }
   ],
   "source": [
    "# changing regression options (constant & linear and quadratic trend)\n",
    "smt.stattools.adfuller(binance_d_return, regression='ctt')"
   ]
  },
  {
   "cell_type": "code",
   "execution_count": 36,
   "metadata": {},
   "outputs": [
    {
     "data": {
      "text/plain": [
       "(-25.368821469042146,\n",
       " 0.0,\n",
       " 0,\n",
       " 644,\n",
       " {'1%': -2.56922048445276,\n",
       "  '5%': -1.941425077439819,\n",
       "  '10%': -1.616414026597418},\n",
       " -2085.080539961283)"
      ]
     },
     "execution_count": 36,
     "metadata": {},
     "output_type": "execute_result"
    }
   ],
   "source": [
    "# changing regression options (no constant, no trend)\n",
    "smt.stattools.adfuller(binance_d_return, regression='nc')"
   ]
  },
  {
   "cell_type": "markdown",
   "metadata": {},
   "source": [
    "All results reject that there is a unit root. \n",
    "\n",
    "return series of BTC/USD is now stationary. "
   ]
  },
  {
   "cell_type": "code",
   "execution_count": 37,
   "metadata": {},
   "outputs": [
    {
     "data": {
      "image/png": "[encoded data removed]",
      "text/plain": [
       "<Figure size 432x288 with 1 Axes>"
      ]
     },
     "execution_count": 37,
     "metadata": {},
     "output_type": "execute_result"
    },
    {
     "data": {
      "image/png": "[encoded data removed]",
      "text/plain": [
       "<Figure size 432x288 with 1 Axes>"
      ]
     },
     "metadata": {},
     "output_type": "display_data"
    }
   ],
   "source": [
    "# ACF\n",
    "smg.tsaplots.plot_acf(binance_d_return)"
   ]
  },
  {
   "cell_type": "code",
   "execution_count": 38,
   "metadata": {},
   "outputs": [
    {
     "data": {
      "image/png": "[encoded data removed]",
      "text/plain": [
       "<Figure size 432x288 with 1 Axes>"
      ]
     },
     "execution_count": 38,
     "metadata": {},
     "output_type": "execute_result"
    },
    {
     "data": {
      "image/png": "[encoded data removed]",
      "text/plain": [
       "<Figure size 432x288 with 1 Axes>"
      ]
     },
     "metadata": {},
     "output_type": "display_data"
    }
   ],
   "source": [
    "# PACF\n",
    "smg.tsaplots.plot_pacf(binance_d_return)"
   ]
  },
  {
   "cell_type": "markdown",
   "metadata": {},
   "source": [
    "## 3. "
   ]
  }
 ],
 "metadata": {
  "kernelspec": {
   "display_name": "Python 3",
   "language": "python",
   "name": "python3"
  },
  "language_info": {
   "codemirror_mode": {
    "name": "ipython",
    "version": 3
   },
   "file_extension": ".py",
   "mimetype": "text/x-python",
   "name": "python",
   "nbconvert_exporter": "python",
   "pygments_lexer": "ipython3",
   "version": "3.6.5"
  }
 },
 "nbformat": 4,
 "nbformat_minor": 2
}
