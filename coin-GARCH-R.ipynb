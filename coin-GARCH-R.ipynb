{
 "cells": [
  {
   "cell_type": "markdown",
   "metadata": {},
   "source": [
    "# (R) 비트코인의 daily/hourly data를 바탕으로\n",
    "\n",
    "- 거품 측정 (AR(1)의 alpha > 1인지 확인) 및 비트코인이 일반 금융자산이 거품상태일 때와 유사한 양상을 보이는지 확인. \n",
    "- GJR-GARCH(1,1)의 gamma 확인 \n",
    "- 거래량 데이터를 이용해 ARMAX/GARCHX 모델 수립\n",
    "- daily/hourly data에 따라 차이가 있는지 확인\n"
   ]
  },
  {
   "cell_type": "markdown",
   "metadata": {},
   "source": [
    "## 0. Initial settings. "
   ]
  },
  {
   "cell_type": "code",
   "execution_count": 147,
   "metadata": {},
   "outputs": [
    {
     "name": "stderr",
     "output_type": "stream",
     "text": [
      "Your code contains a unicode char which cannot be displayed in your\n",
      "current locale and R will silently convert it to an escaped form when the\n",
      "R kernel executes this code. This can lead to subtle errors if you use\n",
      "such chars to do comparisons. For more information, please see\n",
      "https://github.com/IRkernel/repr/wiki/Problems-with-unicode-on-windows"
     ]
    },
    {
     "data": {
      "text/html": [
       "'LC_COLLATE=English_United States.1252;LC_CTYPE=English_United States.1252;LC_MONETARY=English_United States.1252;LC_NUMERIC=C;LC_TIME=English_United States.1252'"
      ],
      "text/latex": [
       "'LC\\_COLLATE=English\\_United States.1252;LC\\_CTYPE=English\\_United States.1252;LC\\_MONETARY=English\\_United States.1252;LC\\_NUMERIC=C;LC\\_TIME=English\\_United States.1252'"
      ],
      "text/markdown": [
       "'LC_COLLATE=English_United States.1252;LC_CTYPE=English_United States.1252;LC_MONETARY=English_United States.1252;LC_NUMERIC=C;LC_TIME=English_United States.1252'"
      ],
      "text/plain": [
       "[1] \"LC_COLLATE=English_United States.1252;LC_CTYPE=English_United States.1252;LC_MONETARY=English_United States.1252;LC_NUMERIC=C;LC_TIME=English_United States.1252\""
      ]
     },
     "metadata": {},
     "output_type": "display_data"
    }
   ],
   "source": [
    "Sys.setlocale('LC_ALL', 'english')\n",
    "\n",
    "r = getOption('repos')\n",
    "r['CRAN'] <- 'http://cran.seoul.go.kr' # 서울시 빅데이터 캠퍼스\n",
    "options(repos=r)"
   ]
  },
  {
   "cell_type": "code",
   "execution_count": 148,
   "metadata": {},
   "outputs": [],
   "source": [
    "require(forecast)\n",
    "require(zoo)\n",
    "require(fGarch)\n",
    "require(rugarch)\n",
    "require(psych)\n",
    "require(aTSA)\n",
    "require(fBasics)\n",
    "require(tidyverse)\n",
    "require(dplyr)"
   ]
  },
  {
   "cell_type": "markdown",
   "metadata": {},
   "source": [
    "# 1. Import data and convert to zoo "
   ]
  },
  {
   "cell_type": "code",
   "execution_count": 149,
   "metadata": {},
   "outputs": [],
   "source": [
    "binance_d <- read.table(\"./mydata/Binance_BTCUSDT_d.csv\", skip=1, sep=',', header=TRUE)\n",
    "binance_h <- read.table(\"./mydata/Binance_BTCUSDT_1h.csv\", skip=1, sep=',', header=TRUE)"
   ]
  },
  {
   "cell_type": "code",
   "execution_count": 150,
   "metadata": {},
   "outputs": [],
   "source": [
    "binance_d <- select(binance_d, -c(Symbol))\n",
    "binance_h <- select(binance_h, -c(Symbol))"
   ]
  },
  {
   "cell_type": "code",
   "execution_count": 151,
   "metadata": {},
   "outputs": [
    {
     "data": {
      "text/plain": [
       "              Open    High     Low   Close Volume.BTC Volume.USDT\n",
       "2017-08-17 4469.93 4485.39 4200.74 4285.08     647.86     2812379\n",
       "2017-08-18 4285.08 4371.52 3938.77 4108.37    1178.07     4994494\n",
       "2017-08-19 4108.37 4184.69 3850.00 4139.98     371.15     1508239\n",
       "2017-08-20 4139.98 4211.08 4032.62 4086.29     463.54     1915636\n",
       "2017-08-21 4086.29 4119.62 3911.79 4016.00     685.12     2770592\n",
       "2017-08-22 4016.00 4104.82 3400.00 4040.00     939.91     3648727"
      ]
     },
     "metadata": {},
     "output_type": "display_data"
    }
   ],
   "source": [
    "binance_d <- read.zoo(binance_d, format='%Y-%m-%d')\n",
    "head(binance_d)"
   ]
  },
  {
   "cell_type": "code",
   "execution_count": 152,
   "metadata": {},
   "outputs": [
    {
     "name": "stderr",
     "output_type": "stream",
     "text": [
      "Your code contains a unicode char which cannot be displayed in your\n",
      "current locale and R will silently convert it to an escaped form when the\n",
      "R kernel executes this code. This can lead to subtle errors if you use\n",
      "such chars to do comparisons. For more information, please see\n",
      "https://github.com/IRkernel/repr/wiki/Problems-with-unicode-on-windows"
     ]
    },
    {
     "data": {
      "text/plain": [
       "                        Open     High     Low   Close Volume.BTC Volume.USDT\n",
       "2017-08-17 04:00:00 16199.91 16199.91 4261.32 4308.83    44.5100   190952.85\n",
       "2017-08-17 05:00:00  4308.83  4328.69 4291.37 4315.32    23.2300   100304.82\n",
       "2017-08-17 06:00:00  4315.32  4345.45 4309.37 4324.35     7.2300    31282.31\n",
       "2017-08-17 07:00:00  4324.35  4349.99 4287.41 4349.99     4.4400    19241.06\n",
       "2017-08-17 08:00:00  4349.99  4377.85 4333.32 4360.69     0.9499     4139.70\n",
       "2017-08-17 09:00:00  4360.69  4445.78 4360.00 4444.00    10.7600    47219.36"
      ]
     },
     "metadata": {},
     "output_type": "display_data"
    }
   ],
   "source": [
    "# binance_h <- read.zoo(binance_h, format='%Y-%m-%d %I-%p') # locale을 korea에서 us로 바꿔주니 해결. \n",
    "# 하지만 위의 코드는 이상하게 hour을 지워버림. \n",
    "\n",
    "binance_h$Date <- ymd_h(binance_h$Date) # lubridate로 대체\n",
    "binance_h <- read.zoo(binance_h) \n",
    "head(binance_h)"
   ]
  },
  {
   "cell_type": "code",
   "execution_count": 153,
   "metadata": {},
   "outputs": [
    {
     "data": {
      "text/html": [
       "'double'"
      ],
      "text/latex": [
       "'double'"
      ],
      "text/markdown": [
       "'double'"
      ],
      "text/plain": [
       "[1] \"double\""
      ]
     },
     "metadata": {},
     "output_type": "display_data"
    }
   ],
   "source": [
    "typeof(binance_d)"
   ]
  },
  {
   "cell_type": "code",
   "execution_count": 154,
   "metadata": {},
   "outputs": [
    {
     "data": {
      "text/html": [
       "'double'"
      ],
      "text/latex": [
       "'double'"
      ],
      "text/markdown": [
       "'double'"
      ],
      "text/plain": [
       "[1] \"double\""
      ]
     },
     "metadata": {},
     "output_type": "display_data"
    }
   ],
   "source": [
    "typeof(binance_h)"
   ]
  },
  {
   "cell_type": "code",
   "execution_count": 155,
   "metadata": {},
   "outputs": [],
   "source": [
    "binance_d_before <- binance_d[index(binance_d) < as.Date(\"2018-01-10\")]\n",
    "binance_d_after <- binance_d[index(binance_d) >= as.Date(\"2018-01-10\")]\n",
    "\n",
    "binance_h_before <- binance_h[index(binance_h) < as.Date(\"2018-01-10\")]\n",
    "binance_h_after <- binance_h[index(binance_h) >= as.Date(\"2018-01-10\")]"
   ]
  },
  {
   "cell_type": "code",
   "execution_count": 167,
   "metadata": {},
   "outputs": [
    {
     "name": "stdout",
     "output_type": "stream",
     "text": [
      "[1]   146   500  3500 12275\n"
     ]
    }
   ],
   "source": [
    "print(c(\n",
    "    nrow(binance_d_before),\n",
    "    nrow(binance_d_after),\n",
    "    nrow(binance_h_before),\n",
    "    nrow(binance_h_after)\n",
    "))"
   ]
  },
  {
   "cell_type": "code",
   "execution_count": 184,
   "metadata": {},
   "outputs": [
    {
     "data": {
      "image/png": "[encoded data removed]",
      "text/plain": [
       "Plot with title \"\""
      ]
     },
     "metadata": {},
     "output_type": "display_data"
    }
   ],
   "source": [
    "plot(binance_d$Close)\n",
    "abline(v=as.Date(\"2018-01-10\"), col='red', cex=100)"
   ]
  },
  {
   "cell_type": "code",
   "execution_count": 185,
   "metadata": {},
   "outputs": [
    {
     "data": {
      "image/png": "[encoded data removed]",
      "text/plain": [
       "plot without title"
      ]
     },
     "metadata": {},
     "output_type": "display_data"
    }
   ],
   "source": [
    "barplot(binance_d$Volume.USDT)\n",
    "abline(v=as.Date(\"2018-01-10\"), col='red', cex=100)"
   ]
  },
  {
   "cell_type": "markdown",
   "metadata": {},
   "source": [
    "# 2. Check stationarity - unit root test\n",
    "\n",
    "Using ADF(Augmented Dickey-Fuller test)\n",
    "\n",
    "H0: B = 1 (unit root)\n",
    "\n",
    "H1: B < 1  "
   ]
  },
  {
   "cell_type": "markdown",
   "metadata": {},
   "source": [
    "### 1. Original price data - expected to be non-stationary"
   ]
  },
  {
   "cell_type": "code",
   "execution_count": 198,
   "metadata": {},
   "outputs": [
    {
     "name": "stdout",
     "output_type": "stream",
     "text": [
      "Augmented Dickey-Fuller Test \n",
      "alternative: stationary \n",
      " \n",
      "Type 1: no drift no trend \n",
      "     lag    ADF p.value\n",
      "[1,]   0 -0.433   0.519\n",
      "[2,]   1 -0.488   0.503\n",
      "[3,]   2 -0.497   0.501\n",
      "[4,]   3 -0.494   0.502\n",
      "[5,]   4 -0.399   0.529\n",
      "Type 2: with drift no trend \n",
      "     lag   ADF p.value\n",
      "[1,]   0 -1.87   0.379\n",
      "[2,]   1 -2.01   0.325\n",
      "[3,]   2 -2.02   0.320\n",
      "[4,]   3 -2.03   0.317\n",
      "[5,]   4 -1.88   0.375\n",
      "Type 3: with drift and trend \n",
      "     lag   ADF p.value\n",
      "[1,]   0 -2.18   0.498\n",
      "[2,]   1 -2.34   0.431\n",
      "[3,]   2 -2.36   0.425\n",
      "[4,]   3 -2.38   0.416\n",
      "[5,]   4 -2.24   0.475\n",
      "---- \n",
      "Note: in fact, p.value = 0.01 means p.value <= 0.01 \n"
     ]
    }
   ],
   "source": [
    "adf.test(matrix(binance_d$Close), nlag=5)"
   ]
  },
  {
   "cell_type": "markdown",
   "metadata": {},
   "source": [
    "As expected, we cannot reject H0: there exist a unit root \n",
    "\n",
    "Therefore the original price data is non-stationary. \n",
    "\n",
    "It is unnecessary to perform this on hourly/before/after data"
   ]
  },
  {
   "cell_type": "markdown",
   "metadata": {},
   "source": [
    "### 2. log-log differenced price data \n",
    "\n",
    "** From now on, all _before, _after data will be replaced to log-log differenced data"
   ]
  },
  {
   "cell_type": "code",
   "execution_count": 189,
   "metadata": {},
   "outputs": [],
   "source": [
    "binance_d_before <- diff(log(binance_d_before)*100, lag=1)\n",
    "binance_d_after <- diff(log(binance_d_after)*100, lag=1)\n",
    "binance_h_before <- diff(log(binance_h_before)*100, lag=1)\n",
    "binance_h_after <- diff(log(binance_h_after)*100, lag=1)"
   ]
  },
  {
   "cell_type": "code",
   "execution_count": 194,
   "metadata": {},
   "outputs": [
    {
     "name": "stdout",
     "output_type": "stream",
     "text": [
      "Augmented Dickey-Fuller Test \n",
      "alternative: stationary \n",
      " \n",
      "Type 1: no drift no trend \n",
      "     lag    ADF p.value\n",
      "[1,]   0 -11.07    0.01\n",
      "[2,]   1  -7.82    0.01\n",
      "[3,]   2  -6.68    0.01\n",
      "[4,]   3  -6.25    0.01\n",
      "[5,]   4  -4.99    0.01\n",
      "Type 2: with drift no trend \n",
      "     lag    ADF p.value\n",
      "[1,]   0 -11.27    0.01\n",
      "[2,]   1  -8.04    0.01\n",
      "[3,]   2  -6.95    0.01\n",
      "[4,]   3  -6.62    0.01\n",
      "[5,]   4  -5.35    0.01\n",
      "Type 3: with drift and trend \n",
      "     lag    ADF p.value\n",
      "[1,]   0 -11.24    0.01\n",
      "[2,]   1  -8.02    0.01\n",
      "[3,]   2  -6.94    0.01\n",
      "[4,]   3  -6.60    0.01\n",
      "[5,]   4  -5.34    0.01\n",
      "---- \n",
      "Note: in fact, p.value = 0.01 means p.value <= 0.01 \n"
     ]
    }
   ],
   "source": [
    "adf.test(matrix(binance_d_before$Close), nlag=5)"
   ]
  },
  {
   "cell_type": "code",
   "execution_count": 195,
   "metadata": {},
   "outputs": [
    {
     "name": "stdout",
     "output_type": "stream",
     "text": [
      "Augmented Dickey-Fuller Test \n",
      "alternative: stationary \n",
      " \n",
      "Type 1: no drift no trend \n",
      "     lag    ADF p.value\n",
      "[1,]   0 -23.47    0.01\n",
      "[2,]   1 -14.98    0.01\n",
      "[3,]   2 -11.58    0.01\n",
      "[4,]   3 -10.88    0.01\n",
      "[5,]   4  -9.16    0.01\n",
      "Type 2: with drift no trend \n",
      "     lag    ADF p.value\n",
      "[1,]   0 -23.47    0.01\n",
      "[2,]   1 -14.99    0.01\n",
      "[3,]   2 -11.59    0.01\n",
      "[4,]   3 -10.89    0.01\n",
      "[5,]   4  -9.17    0.01\n",
      "Type 3: with drift and trend \n",
      "     lag    ADF p.value\n",
      "[1,]   0 -23.62    0.01\n",
      "[2,]   1 -15.14    0.01\n",
      "[3,]   2 -11.76    0.01\n",
      "[4,]   3 -11.08    0.01\n",
      "[5,]   4  -9.35    0.01\n",
      "---- \n",
      "Note: in fact, p.value = 0.01 means p.value <= 0.01 \n"
     ]
    }
   ],
   "source": [
    "adf.test(matrix(binance_d_after$Close), nlag=5)"
   ]
  },
  {
   "cell_type": "code",
   "execution_count": 196,
   "metadata": {},
   "outputs": [
    {
     "name": "stdout",
     "output_type": "stream",
     "text": [
      "Augmented Dickey-Fuller Test \n",
      "alternative: stationary \n",
      " \n",
      "Type 1: no drift no trend \n",
      "     lag   ADF p.value\n",
      "[1,]   0 -66.1    0.01\n",
      "[2,]   1 -46.0    0.01\n",
      "[3,]   2 -38.0    0.01\n",
      "[4,]   3 -33.3    0.01\n",
      "[5,]   4 -29.6    0.01\n",
      "Type 2: with drift no trend \n",
      "     lag   ADF p.value\n",
      "[1,]   0 -66.2    0.01\n",
      "[2,]   1 -46.0    0.01\n",
      "[3,]   2 -38.1    0.01\n",
      "[4,]   3 -33.4    0.01\n",
      "[5,]   4 -29.7    0.01\n",
      "Type 3: with drift and trend \n",
      "     lag   ADF p.value\n",
      "[1,]   0 -66.2    0.01\n",
      "[2,]   1 -46.0    0.01\n",
      "[3,]   2 -38.1    0.01\n",
      "[4,]   3 -33.4    0.01\n",
      "[5,]   4 -29.7    0.01\n",
      "---- \n",
      "Note: in fact, p.value = 0.01 means p.value <= 0.01 \n"
     ]
    }
   ],
   "source": [
    "adf.test(matrix(binance_h_before$Close), nlag=5)"
   ]
  },
  {
   "cell_type": "code",
   "execution_count": 197,
   "metadata": {},
   "outputs": [
    {
     "name": "stdout",
     "output_type": "stream",
     "text": [
      "Augmented Dickey-Fuller Test \n",
      "alternative: stationary \n",
      " \n",
      "Type 1: no drift no trend \n",
      "     lag    ADF p.value\n",
      "[1,]   0 -116.3    0.01\n",
      "[2,]   1  -85.6    0.01\n",
      "[3,]   2  -67.4    0.01\n",
      "[4,]   3  -56.3    0.01\n",
      "[5,]   4  -50.1    0.01\n",
      "Type 2: with drift no trend \n",
      "     lag    ADF p.value\n",
      "[1,]   0 -116.3    0.01\n",
      "[2,]   1  -85.6    0.01\n",
      "[3,]   2  -67.4    0.01\n",
      "[4,]   3  -56.3    0.01\n",
      "[5,]   4  -50.1    0.01\n",
      "Type 3: with drift and trend \n",
      "     lag    ADF p.value\n",
      "[1,]   0 -116.4    0.01\n",
      "[2,]   1  -85.7    0.01\n",
      "[3,]   2  -67.5    0.01\n",
      "[4,]   3  -56.3    0.01\n",
      "[5,]   4  -50.1    0.01\n",
      "---- \n",
      "Note: in fact, p.value = 0.01 means p.value <= 0.01 \n"
     ]
    }
   ],
   "source": [
    "adf.test(matrix(binance_h_after$Close), nlag=5)"
   ]
  },
  {
   "cell_type": "code",
   "execution_count": null,
   "metadata": {},
   "outputs": [],
   "source": []
  }
 ],
 "metadata": {
  "kernelspec": {
   "display_name": "R",
   "language": "R",
   "name": "ir"
  },
  "language_info": {
   "codemirror_mode": "r",
   "file_extension": ".r",
   "mimetype": "text/x-r-source",
   "name": "R",
   "pygments_lexer": "r",
   "version": "3.6.0"
  }
 },
 "nbformat": 4,
 "nbformat_minor": 2
}
