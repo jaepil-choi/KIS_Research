{
 "cells": [
  {
   "cell_type": "markdown",
   "metadata": {},
   "source": [
    "# (R) 비트코인의 daily/hourly data를 바탕으로\n",
    "\n",
    "- 거품 측정 (AR(1)의 alpha > 1인지 확인) 및 비트코인이 일반 금융자산이 거품상태일 때와 유사한 양상을 보이는지 확인. \n",
    "- GJR-GARCH(1,1)의 gamma 확인 \n",
    "- 거래량 데이터를 이용해 ARMAX/GARCHX 모델 수립\n",
    "- daily/hourly data에 따라 차이가 있는지 확인\n"
   ]
  },
  {
   "cell_type": "markdown",
   "metadata": {},
   "source": [
    "## 0. Initial settings. "
   ]
  },
  {
   "cell_type": "code",
   "execution_count": 68,
   "metadata": {},
   "outputs": [
    {
     "name": "stderr",
     "output_type": "stream",
     "text": [
      "Your code contains a unicode char which cannot be displayed in your\n",
      "current locale and R will silently convert it to an escaped form when the\n",
      "R kernel executes this code. This can lead to subtle errors if you use\n",
      "such chars to do comparisons. For more information, please see\n",
      "https://github.com/IRkernel/repr/wiki/Problems-with-unicode-on-windows"
     ]
    },
    {
     "data": {
      "text/html": [
       "'LC_COLLATE=English_United States.1252;LC_CTYPE=English_United States.1252;LC_MONETARY=English_United States.1252;LC_NUMERIC=C;LC_TIME=English_United States.1252'"
      ],
      "text/latex": [
       "'LC\\_COLLATE=English\\_United States.1252;LC\\_CTYPE=English\\_United States.1252;LC\\_MONETARY=English\\_United States.1252;LC\\_NUMERIC=C;LC\\_TIME=English\\_United States.1252'"
      ],
      "text/markdown": [
       "'LC_COLLATE=English_United States.1252;LC_CTYPE=English_United States.1252;LC_MONETARY=English_United States.1252;LC_NUMERIC=C;LC_TIME=English_United States.1252'"
      ],
      "text/plain": [
       "[1] \"LC_COLLATE=English_United States.1252;LC_CTYPE=English_United States.1252;LC_MONETARY=English_United States.1252;LC_NUMERIC=C;LC_TIME=English_United States.1252\""
      ]
     },
     "metadata": {},
     "output_type": "display_data"
    }
   ],
   "source": [
    "Sys.setlocale('LC_ALL', 'english')\n",
    "\n",
    "r = getOption('repos')\n",
    "r['CRAN'] <- 'http://cran.seoul.go.kr' # 서울시 빅데이터 캠퍼스\n",
    "options(repos=r)"
   ]
  },
  {
   "cell_type": "code",
   "execution_count": 69,
   "metadata": {},
   "outputs": [],
   "source": [
    "require(forecast)\n",
    "require(zoo)\n",
    "require(fGarch)\n",
    "require(rugarch)\n",
    "require(psych)\n",
    "require(aTSA)\n",
    "require(fBasics)\n",
    "require(tidyverse)"
   ]
  },
  {
   "cell_type": "code",
   "execution_count": 70,
   "metadata": {},
   "outputs": [],
   "source": [
    "binance_d <- read.table(\"./mydata/Binance_BTCUSDT_d.csv\", skip=1, sep=',', header=TRUE)\n",
    "binance_h <- read.table(\"./mydata/Binance_BTCUSDT_1h.csv\", skip=1, sep=',', header=TRUE)"
   ]
  },
  {
   "cell_type": "code",
   "execution_count": 71,
   "metadata": {},
   "outputs": [
    {
     "data": {
      "text/plain": [
       "           Symbol  Open     High     Low      Close    Volume.BTC Volume.USDT\n",
       "2017-08-17 BTCUSDT  4469.93  4485.39  4200.74  4285.08    647.86    2812379.1\n",
       "2017-08-18 BTCUSDT  4285.08  4371.52  3938.77  4108.37   1178.07    4994493.6\n",
       "2017-08-19 BTCUSDT  4108.37  4184.69  3850.00  4139.98    371.15    1508239.4\n",
       "2017-08-20 BTCUSDT  4139.98  4211.08  4032.62  4086.29    463.54    1915636.4\n",
       "2017-08-21 BTCUSDT  4086.29  4119.62  3911.79  4016.00    685.12    2770592.1\n",
       "2017-08-22 BTCUSDT  4016.00  4104.82  3400.00  4040.00    939.91    3648726.5"
      ]
     },
     "metadata": {},
     "output_type": "display_data"
    }
   ],
   "source": [
    "binance_d <- read.zoo(binance_d, format='%Y-%m-%d')\n",
    "head(binance_d)"
   ]
  },
  {
   "cell_type": "code",
   "execution_count": 72,
   "metadata": {},
   "outputs": [
    {
     "name": "stderr",
     "output_type": "stream",
     "text": [
      "Your code contains a unicode char which cannot be displayed in your\n",
      "current locale and R will silently convert it to an escaped form when the\n",
      "R kernel executes this code. This can lead to subtle errors if you use\n",
      "such chars to do comparisons. For more information, please see\n",
      "https://github.com/IRkernel/repr/wiki/Problems-with-unicode-on-windows"
     ]
    },
    {
     "data": {
      "text/plain": [
       "                    Symbol  Open     High     Low      Close    Volume.BTC\n",
       "2017-08-17 04:00:00 BTCUSDT 16199.91 16199.91  4261.32  4308.83    44.5100\n",
       "2017-08-17 05:00:00 BTCUSDT  4308.83  4328.69  4291.37  4315.32    23.2300\n",
       "2017-08-17 06:00:00 BTCUSDT  4315.32  4345.45  4309.37  4324.35     7.2300\n",
       "2017-08-17 07:00:00 BTCUSDT  4324.35  4349.99  4287.41  4349.99     4.4400\n",
       "2017-08-17 08:00:00 BTCUSDT  4349.99  4377.85  4333.32  4360.69     0.9499\n",
       "2017-08-17 09:00:00 BTCUSDT  4360.69  4445.78  4360.00  4444.00    10.7600\n",
       "                    Volume.USDT\n",
       "2017-08-17 04:00:00   190952.85\n",
       "2017-08-17 05:00:00   100304.82\n",
       "2017-08-17 06:00:00    31282.31\n",
       "2017-08-17 07:00:00    19241.06\n",
       "2017-08-17 08:00:00     4139.70\n",
       "2017-08-17 09:00:00    47219.36"
      ]
     },
     "metadata": {},
     "output_type": "display_data"
    }
   ],
   "source": [
    "# binance_h <- read.zoo(binance_h, format='%Y-%m-%d %I-%p') # locale을 korea에서 us로 바꿔주니 해결. \n",
    "# 하지만 위의 코드는 이상하게 hour을 지워버림. \n",
    "\n",
    "binance_h$Date <- ymd_h(binance_h$Date) # lubridate로 대체\n",
    "binance_h <- read.zoo(binance_h) \n",
    "head(binance_h)"
   ]
  },
  {
   "cell_type": "code",
   "execution_count": 50,
   "metadata": {},
   "outputs": [
    {
     "data": {
      "text/html": [
       "<table>\n",
       "<caption>A data.frame: 6 × 8</caption>\n",
       "<thead>\n",
       "\t<tr><th scope=col>Date</th><th scope=col>Symbol</th><th scope=col>Open</th><th scope=col>High</th><th scope=col>Low</th><th scope=col>Close</th><th scope=col>Volume.BTC</th><th scope=col>Volume.USDT</th></tr>\n",
       "\t<tr><th scope=col>&lt;fct&gt;</th><th scope=col>&lt;fct&gt;</th><th scope=col>&lt;dbl&gt;</th><th scope=col>&lt;dbl&gt;</th><th scope=col>&lt;dbl&gt;</th><th scope=col>&lt;dbl&gt;</th><th scope=col>&lt;dbl&gt;</th><th scope=col>&lt;dbl&gt;</th></tr>\n",
       "</thead>\n",
       "<tbody>\n",
       "\t<tr><td>2019-06-05 10-AM</td><td>BTCUSDT</td><td>7795.04</td><td>7812.30</td><td>7789.00</td><td>7796.12</td><td> 174.11</td><td> 1358410</td></tr>\n",
       "\t<tr><td>2019-06-05 09-AM</td><td>BTCUSDT</td><td>7809.30</td><td>7834.51</td><td>7769.33</td><td>7795.04</td><td>1642.11</td><td>12803996</td></tr>\n",
       "\t<tr><td>2019-06-05 08-AM</td><td>BTCUSDT</td><td>7823.93</td><td>7842.00</td><td>7771.71</td><td>7809.30</td><td>2448.12</td><td>19103276</td></tr>\n",
       "\t<tr><td>2019-06-05 07-AM</td><td>BTCUSDT</td><td>7745.22</td><td>7838.49</td><td>7728.83</td><td>7823.93</td><td>1934.01</td><td>15051994</td></tr>\n",
       "\t<tr><td>2019-06-05 06-AM</td><td>BTCUSDT</td><td>7732.76</td><td>7759.93</td><td>7678.23</td><td>7745.22</td><td>1697.20</td><td>13097861</td></tr>\n",
       "\t<tr><td>2019-06-05 05-AM</td><td>BTCUSDT</td><td>7782.22</td><td>7803.00</td><td>7717.00</td><td>7732.76</td><td>1231.80</td><td> 9567736</td></tr>\n",
       "</tbody>\n",
       "</table>\n"
      ],
      "text/latex": [
       "A data.frame: 6 × 8\n",
       "\\begin{tabular}{r|llllllll}\n",
       " Date & Symbol & Open & High & Low & Close & Volume.BTC & Volume.USDT\\\\\n",
       " <fct> & <fct> & <dbl> & <dbl> & <dbl> & <dbl> & <dbl> & <dbl>\\\\\n",
       "\\hline\n",
       "\t 2019-06-05 10-AM & BTCUSDT & 7795.04 & 7812.30 & 7789.00 & 7796.12 &  174.11 &  1358410\\\\\n",
       "\t 2019-06-05 09-AM & BTCUSDT & 7809.30 & 7834.51 & 7769.33 & 7795.04 & 1642.11 & 12803996\\\\\n",
       "\t 2019-06-05 08-AM & BTCUSDT & 7823.93 & 7842.00 & 7771.71 & 7809.30 & 2448.12 & 19103276\\\\\n",
       "\t 2019-06-05 07-AM & BTCUSDT & 7745.22 & 7838.49 & 7728.83 & 7823.93 & 1934.01 & 15051994\\\\\n",
       "\t 2019-06-05 06-AM & BTCUSDT & 7732.76 & 7759.93 & 7678.23 & 7745.22 & 1697.20 & 13097861\\\\\n",
       "\t 2019-06-05 05-AM & BTCUSDT & 7782.22 & 7803.00 & 7717.00 & 7732.76 & 1231.80 &  9567736\\\\\n",
       "\\end{tabular}\n"
      ],
      "text/markdown": [
       "\n",
       "A data.frame: 6 × 8\n",
       "\n",
       "| Date &lt;fct&gt; | Symbol &lt;fct&gt; | Open &lt;dbl&gt; | High &lt;dbl&gt; | Low &lt;dbl&gt; | Close &lt;dbl&gt; | Volume.BTC &lt;dbl&gt; | Volume.USDT &lt;dbl&gt; |\n",
       "|---|---|---|---|---|---|---|---|\n",
       "| 2019-06-05 10-AM | BTCUSDT | 7795.04 | 7812.30 | 7789.00 | 7796.12 |  174.11 |  1358410 |\n",
       "| 2019-06-05 09-AM | BTCUSDT | 7809.30 | 7834.51 | 7769.33 | 7795.04 | 1642.11 | 12803996 |\n",
       "| 2019-06-05 08-AM | BTCUSDT | 7823.93 | 7842.00 | 7771.71 | 7809.30 | 2448.12 | 19103276 |\n",
       "| 2019-06-05 07-AM | BTCUSDT | 7745.22 | 7838.49 | 7728.83 | 7823.93 | 1934.01 | 15051994 |\n",
       "| 2019-06-05 06-AM | BTCUSDT | 7732.76 | 7759.93 | 7678.23 | 7745.22 | 1697.20 | 13097861 |\n",
       "| 2019-06-05 05-AM | BTCUSDT | 7782.22 | 7803.00 | 7717.00 | 7732.76 | 1231.80 |  9567736 |\n",
       "\n"
      ],
      "text/plain": [
       "  Date             Symbol  Open    High    Low     Close   Volume.BTC\n",
       "1 2019-06-05 10-AM BTCUSDT 7795.04 7812.30 7789.00 7796.12  174.11   \n",
       "2 2019-06-05 09-AM BTCUSDT 7809.30 7834.51 7769.33 7795.04 1642.11   \n",
       "3 2019-06-05 08-AM BTCUSDT 7823.93 7842.00 7771.71 7809.30 2448.12   \n",
       "4 2019-06-05 07-AM BTCUSDT 7745.22 7838.49 7728.83 7823.93 1934.01   \n",
       "5 2019-06-05 06-AM BTCUSDT 7732.76 7759.93 7678.23 7745.22 1697.20   \n",
       "6 2019-06-05 05-AM BTCUSDT 7782.22 7803.00 7717.00 7732.76 1231.80   \n",
       "  Volume.USDT\n",
       "1  1358410   \n",
       "2 12803996   \n",
       "3 19103276   \n",
       "4 15051994   \n",
       "5 13097861   \n",
       "6  9567736   "
      ]
     },
     "metadata": {},
     "output_type": "display_data"
    }
   ],
   "source": [
    "head(binance_h)"
   ]
  },
  {
   "cell_type": "code",
   "execution_count": null,
   "metadata": {},
   "outputs": [],
   "source": []
  }
 ],
 "metadata": {
  "kernelspec": {
   "display_name": "R",
   "language": "R",
   "name": "ir"
  },
  "language_info": {
   "codemirror_mode": "r",
   "file_extension": ".r",
   "mimetype": "text/x-r-source",
   "name": "R",
   "pygments_lexer": "r",
   "version": "3.6.0"
  }
 },
 "nbformat": 4,
 "nbformat_minor": 2
}
