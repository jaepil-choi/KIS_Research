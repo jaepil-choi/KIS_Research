{
 "cells": [
  {
   "cell_type": "markdown",
   "metadata": {},
   "source": [
    "# (R) 비트코인의 daily/hourly data를 바탕으로\n",
    "\n",
    "- 거품 측정 (AR(1)의 alpha > 1인지 확인) 및 비트코인이 일반 금융자산이 거품상태일 때와 유사한 양상을 보이는지 확인. \n",
    "- GJR-GARCH(1,1)의 gamma 확인 \n",
    "- 거래량 데이터를 이용해 ARMAX/GARCHX 모델 수립\n",
    "- daily/hourly data에 따라 차이가 있는지 확인\n"
   ]
  },
  {
   "cell_type": "markdown",
   "metadata": {},
   "source": [
    "## 0. Initial settings. "
   ]
  },
  {
   "cell_type": "code",
   "execution_count": 3,
   "metadata": {},
   "outputs": [
    {
     "name": "stderr",
     "output_type": "stream",
     "text": [
      "Your code contains a unicode char which cannot be displayed in your\n",
      "current locale and R will silently convert it to an escaped form when the\n",
      "R kernel executes this code. This can lead to subtle errors if you use\n",
      "such chars to do comparisons. For more information, please see\n",
      "https://github.com/IRkernel/repr/wiki/Problems-with-unicode-on-windows"
     ]
    },
    {
     "data": {
      "text/html": [
       "'LC_COLLATE=English_United States.1252;LC_CTYPE=English_United States.1252;LC_MONETARY=English_United States.1252;LC_NUMERIC=C;LC_TIME=English_United States.1252'"
      ],
      "text/latex": [
       "'LC\\_COLLATE=English\\_United States.1252;LC\\_CTYPE=English\\_United States.1252;LC\\_MONETARY=English\\_United States.1252;LC\\_NUMERIC=C;LC\\_TIME=English\\_United States.1252'"
      ],
      "text/markdown": [
       "'LC_COLLATE=English_United States.1252;LC_CTYPE=English_United States.1252;LC_MONETARY=English_United States.1252;LC_NUMERIC=C;LC_TIME=English_United States.1252'"
      ],
      "text/plain": [
       "[1] \"LC_COLLATE=English_United States.1252;LC_CTYPE=English_United States.1252;LC_MONETARY=English_United States.1252;LC_NUMERIC=C;LC_TIME=English_United States.1252\""
      ]
     },
     "metadata": {},
     "output_type": "display_data"
    }
   ],
   "source": [
    "Sys.setlocale('LC_ALL', 'english')\n",
    "\n",
    "r = getOption('repos')\n",
    "r['CRAN'] <- 'http://cran.seoul.go.kr' # 서울시 빅데이터 캠퍼스\n",
    "options(repos=r)"
   ]
  },
  {
   "cell_type": "code",
   "execution_count": 27,
   "metadata": {},
   "outputs": [],
   "source": [
    "require(forecast)\n",
    "require(zoo)\n",
    "require(fGarch)\n",
    "require(rugarch)\n",
    "require(psych)\n",
    "require(aTSA)\n",
    "require(fBasics)\n",
    "require(tidyverse)\n",
    "require(dplyr)\n",
    "require(lubridate)\n",
    "require(ggplot2)"
   ]
  },
  {
   "cell_type": "markdown",
   "metadata": {},
   "source": [
    "# 1. Import data and convert to zoo "
   ]
  },
  {
   "cell_type": "code",
   "execution_count": 70,
   "metadata": {},
   "outputs": [
    {
     "data": {
      "text/html": [
       "<table>\n",
       "<caption>A data.frame: 6 × 10</caption>\n",
       "<thead>\n",
       "\t<tr><th scope=col>date</th><th scope=col>close</th><th scope=col>vol_usd</th><th scope=col>mktcap_usd</th><th scope=col>vol_btc</th><th scope=col>mktcap_btc</th><th scope=col>fed_rate</th><th scope=col>gold_usd</th><th scope=col>kospi</th><th scope=col>ex_rate</th></tr>\n",
       "\t<tr><th scope=col>&lt;fct&gt;</th><th scope=col>&lt;dbl&gt;</th><th scope=col>&lt;dbl&gt;</th><th scope=col>&lt;dbl&gt;</th><th scope=col>&lt;dbl&gt;</th><th scope=col>&lt;dbl&gt;</th><th scope=col>&lt;dbl&gt;</th><th scope=col>&lt;dbl&gt;</th><th scope=col>&lt;dbl&gt;</th><th scope=col>&lt;dbl&gt;</th></tr>\n",
       "</thead>\n",
       "<tbody>\n",
       "\t<tr><td>2014-01-01</td><td>771.40</td><td>22489400</td><td> 9403308145</td><td>29154.01</td><td>12189925</td><td>0.07</td><td>1204.50</td><td>2011.34</td><td>1055.3</td></tr>\n",
       "\t<tr><td>2014-01-02</td><td>802.39</td><td>38489500</td><td> 9781073921</td><td>47968.57</td><td>12189925</td><td>0.07</td><td>1225.00</td><td>1967.19</td><td>1055.3</td></tr>\n",
       "\t<tr><td>2014-01-03</td><td>818.72</td><td>37810100</td><td> 9980135396</td><td>46181.97</td><td>12189925</td><td>0.07</td><td>1234.50</td><td>1946.14</td><td>1050.4</td></tr>\n",
       "\t<tr><td>2014-01-04</td><td>859.51</td><td>38005000</td><td>10477362437</td><td>44217.05</td><td>12189925</td><td>0.07</td><td>1234.50</td><td>1946.14</td><td>1050.4</td></tr>\n",
       "\t<tr><td>2014-01-05</td><td>933.53</td><td>72898496</td><td>11379660685</td><td>78089.08</td><td>12189925</td><td>0.07</td><td>1234.50</td><td>1946.14</td><td>1050.4</td></tr>\n",
       "\t<tr><td>2014-01-06</td><td>953.29</td><td>85565696</td><td>11620533603</td><td>89758.31</td><td>12189925</td><td>0.07</td><td>1246.25</td><td>1953.28</td><td>1054.1</td></tr>\n",
       "</tbody>\n",
       "</table>\n"
      ],
      "text/latex": [
       "A data.frame: 6 × 10\n",
       "\\begin{tabular}{r|llllllllll}\n",
       " date & close & vol\\_usd & mktcap\\_usd & vol\\_btc & mktcap\\_btc & fed\\_rate & gold\\_usd & kospi & ex\\_rate\\\\\n",
       " <fct> & <dbl> & <dbl> & <dbl> & <dbl> & <dbl> & <dbl> & <dbl> & <dbl> & <dbl>\\\\\n",
       "\\hline\n",
       "\t 2014-01-01 & 771.40 & 22489400 &  9403308145 & 29154.01 & 12189925 & 0.07 & 1204.50 & 2011.34 & 1055.3\\\\\n",
       "\t 2014-01-02 & 802.39 & 38489500 &  9781073921 & 47968.57 & 12189925 & 0.07 & 1225.00 & 1967.19 & 1055.3\\\\\n",
       "\t 2014-01-03 & 818.72 & 37810100 &  9980135396 & 46181.97 & 12189925 & 0.07 & 1234.50 & 1946.14 & 1050.4\\\\\n",
       "\t 2014-01-04 & 859.51 & 38005000 & 10477362437 & 44217.05 & 12189925 & 0.07 & 1234.50 & 1946.14 & 1050.4\\\\\n",
       "\t 2014-01-05 & 933.53 & 72898496 & 11379660685 & 78089.08 & 12189925 & 0.07 & 1234.50 & 1946.14 & 1050.4\\\\\n",
       "\t 2014-01-06 & 953.29 & 85565696 & 11620533603 & 89758.31 & 12189925 & 0.07 & 1246.25 & 1953.28 & 1054.1\\\\\n",
       "\\end{tabular}\n"
      ],
      "text/markdown": [
       "\n",
       "A data.frame: 6 × 10\n",
       "\n",
       "| date &lt;fct&gt; | close &lt;dbl&gt; | vol_usd &lt;dbl&gt; | mktcap_usd &lt;dbl&gt; | vol_btc &lt;dbl&gt; | mktcap_btc &lt;dbl&gt; | fed_rate &lt;dbl&gt; | gold_usd &lt;dbl&gt; | kospi &lt;dbl&gt; | ex_rate &lt;dbl&gt; |\n",
       "|---|---|---|---|---|---|---|---|---|---|\n",
       "| 2014-01-01 | 771.40 | 22489400 |  9403308145 | 29154.01 | 12189925 | 0.07 | 1204.50 | 2011.34 | 1055.3 |\n",
       "| 2014-01-02 | 802.39 | 38489500 |  9781073921 | 47968.57 | 12189925 | 0.07 | 1225.00 | 1967.19 | 1055.3 |\n",
       "| 2014-01-03 | 818.72 | 37810100 |  9980135396 | 46181.97 | 12189925 | 0.07 | 1234.50 | 1946.14 | 1050.4 |\n",
       "| 2014-01-04 | 859.51 | 38005000 | 10477362437 | 44217.05 | 12189925 | 0.07 | 1234.50 | 1946.14 | 1050.4 |\n",
       "| 2014-01-05 | 933.53 | 72898496 | 11379660685 | 78089.08 | 12189925 | 0.07 | 1234.50 | 1946.14 | 1050.4 |\n",
       "| 2014-01-06 | 953.29 | 85565696 | 11620533603 | 89758.31 | 12189925 | 0.07 | 1246.25 | 1953.28 | 1054.1 |\n",
       "\n"
      ],
      "text/plain": [
       "  date       close  vol_usd  mktcap_usd  vol_btc  mktcap_btc fed_rate gold_usd\n",
       "1 2014-01-01 771.40 22489400  9403308145 29154.01 12189925   0.07     1204.50 \n",
       "2 2014-01-02 802.39 38489500  9781073921 47968.57 12189925   0.07     1225.00 \n",
       "3 2014-01-03 818.72 37810100  9980135396 46181.97 12189925   0.07     1234.50 \n",
       "4 2014-01-04 859.51 38005000 10477362437 44217.05 12189925   0.07     1234.50 \n",
       "5 2014-01-05 933.53 72898496 11379660685 78089.08 12189925   0.07     1234.50 \n",
       "6 2014-01-06 953.29 85565696 11620533603 89758.31 12189925   0.07     1246.25 \n",
       "  kospi   ex_rate\n",
       "1 2011.34 1055.3 \n",
       "2 1967.19 1055.3 \n",
       "3 1946.14 1050.4 \n",
       "4 1946.14 1050.4 \n",
       "5 1946.14 1050.4 \n",
       "6 1953.28 1054.1 "
      ]
     },
     "metadata": {},
     "output_type": "display_data"
    }
   ],
   "source": [
    "all <- read.table(\"./keypaperdata/all.csv\", sep=',', header=TRUE)\n",
    "head(all)"
   ]
  },
  {
   "cell_type": "code",
   "execution_count": 71,
   "metadata": {},
   "outputs": [
    {
     "data": {
      "text/plain": [
       "            close  vol_usd  mktcap_usd  vol_btc mktcap_btc fed_rate gold_usd\n",
       "2014-01-01 771.40 22489400  9403308145 29154.01   12189925     0.07  1204.50\n",
       "2014-01-02 802.39 38489500  9781073921 47968.57   12189925     0.07  1225.00\n",
       "2014-01-03 818.72 37810100  9980135396 46181.97   12189925     0.07  1234.50\n",
       "2014-01-04 859.51 38005000 10477362437 44217.05   12189925     0.07  1234.50\n",
       "2014-01-05 933.53 72898496 11379660685 78089.08   12189925     0.07  1234.50\n",
       "2014-01-06 953.29 85565696 11620533603 89758.31   12189925     0.07  1246.25\n",
       "             kospi ex_rate\n",
       "2014-01-01 2011.34  1055.3\n",
       "2014-01-02 1967.19  1055.3\n",
       "2014-01-03 1946.14  1050.4\n",
       "2014-01-04 1946.14  1050.4\n",
       "2014-01-05 1946.14  1050.4\n",
       "2014-01-06 1953.28  1054.1"
      ]
     },
     "metadata": {},
     "output_type": "display_data"
    }
   ],
   "source": [
    "all <- read.zoo(all, format='%Y-%m-%d')\n",
    "head(all)"
   ]
  },
  {
   "cell_type": "code",
   "execution_count": 72,
   "metadata": {},
   "outputs": [
    {
     "data": {
      "text/html": [
       "'double'"
      ],
      "text/latex": [
       "'double'"
      ],
      "text/markdown": [
       "'double'"
      ],
      "text/plain": [
       "[1] \"double\""
      ]
     },
     "metadata": {},
     "output_type": "display_data"
    }
   ],
   "source": [
    "typeof(all)"
   ]
  },
  {
   "cell_type": "code",
   "execution_count": 73,
   "metadata": {},
   "outputs": [],
   "source": [
    "crash_date <- as.Date(\"2018-01-10\")\n",
    "keypaper_date <- as.Date('2015-05-22')"
   ]
  },
  {
   "cell_type": "code",
   "execution_count": 74,
   "metadata": {},
   "outputs": [],
   "source": [
    "crash <- function(df, is_before) {\n",
    "    if (is_before == TRUE) {\n",
    "        return(df[index(df) < crash_date])\n",
    "    } else {\n",
    "        return(df[index(df) >= crash_date])\n",
    "    }\n",
    "}"
   ]
  },
  {
   "cell_type": "code",
   "execution_count": 75,
   "metadata": {},
   "outputs": [
    {
     "name": "stdout",
     "output_type": "stream",
     "text": [
      "[1] 1470  507\n"
     ]
    }
   ],
   "source": [
    "print(c(\n",
    "    nrow(crash(all, TRUE)),\n",
    "    nrow(crash(all, FALSE))\n",
    "))"
   ]
  },
  {
   "cell_type": "code",
   "execution_count": 76,
   "metadata": {},
   "outputs": [],
   "source": [
    "# plot(all$close)\n",
    "# abline(v=date, col='red', cex=100)\n",
    "# abline(v=keypaper_date, col='blue', cex=100)"
   ]
  },
  {
   "cell_type": "code",
   "execution_count": 77,
   "metadata": {},
   "outputs": [
    {
     "data": {
      "image/png": "[encoded data removed]",
      "text/plain": [
       "plot without title"
      ]
     },
     "metadata": {},
     "output_type": "display_data"
    }
   ],
   "source": [
    "# crash_geom <- ggplot(data=all, aes(x=index(all), y=close)) + geom_vline(xintercept=crash_date, color='red') + geom_text(aes(x=crash_date, label=\"Exchange shutdown announcement \"))\n",
    "# keypaper_date_geom <- ggplot(data=all, aes(x=index(all), y=close)) + geom_vline(xintercept=keypaper_date, color='blue') + geom_text(aes(x=keypaper_date, label=\"Key paper's data end date\"))\n",
    "\n",
    "# How do I plot volume & close price on the same graph? \n",
    "\n",
    "btc_close_plot <- ggplot(data=all, aes(x=index(all), y=close)) + geom_line() + \n",
    "geom_vline(xintercept=crash_date, color='red') + geom_text(aes(x=crash_date, label=\"Gov't exchange shutdown announcement\", y=20000)) + \n",
    "geom_vline(xintercept=keypaper_date, color='blue') + geom_text(aes(x=keypaper_date, label=\"Key paper's data end date\", y=20000))\n",
    "\n",
    "btc_close_plot"
   ]
  },
  {
   "cell_type": "code",
   "execution_count": 78,
   "metadata": {},
   "outputs": [
    {
     "data": {
      "text/plain": [
       "            close  vol_usd  mktcap_usd  vol_btc mktcap_btc fed_rate gold_usd\n",
       "2014-01-01 771.40 22489400  9403308145 29154.01   12189925     0.07  1204.50\n",
       "2014-01-02 802.39 38489500  9781073921 47968.57   12189925     0.07  1225.00\n",
       "2014-01-03 818.72 37810100  9980135396 46181.97   12189925     0.07  1234.50\n",
       "2014-01-04 859.51 38005000 10477362437 44217.05   12189925     0.07  1234.50\n",
       "2014-01-05 933.53 72898496 11379660685 78089.08   12189925     0.07  1234.50\n",
       "2014-01-06 953.29 85565696 11620533603 89758.31   12189925     0.07  1246.25\n",
       "             kospi ex_rate\n",
       "2014-01-01 2011.34  1055.3\n",
       "2014-01-02 1967.19  1055.3\n",
       "2014-01-03 1946.14  1050.4\n",
       "2014-01-04 1946.14  1050.4\n",
       "2014-01-05 1946.14  1050.4\n",
       "2014-01-06 1953.28  1054.1"
      ]
     },
     "metadata": {},
     "output_type": "display_data"
    }
   ],
   "source": [
    "head(all)"
   ]
  },
  {
   "cell_type": "code",
   "execution_count": 79,
   "metadata": {},
   "outputs": [],
   "source": [
    "all$rate_btc <- diff(log(all$close)*100, lag=1)\n",
    "all$rate_vol_btc <- diff(log(all$vol_btc)*100, lag=1)\n",
    "all$rate_gold_usd <- diff(log(all$gold_usd)*100, lag=1)\n",
    "all$rate_kospi <- diff(log(all$kospi)*100, lag=1)\n",
    "all$rate_ex_rate <- diff(log(all$ex_rate)*100, lag=1)\n",
    "\n",
    "all <- all[-1,]"
   ]
  },
  {
   "cell_type": "code",
   "execution_count": 84,
   "metadata": {},
   "outputs": [
    {
     "data": {
      "image/png": "[encoded data removed]",
      "text/plain": [
       "plot without title"
      ]
     },
     "metadata": {},
     "output_type": "display_data"
    }
   ],
   "source": [
    "rate_btc_plot <- ggplot(data=all, aes(x=index(all), y=rate_btc)) + geom_line() + \n",
    "geom_vline(xintercept=crash_date, color='red') + geom_text(aes(x=crash_date, label=\"Gov't exchange shutdown announcement\", y=20)) + \n",
    "geom_vline(xintercept=keypaper_date, color='blue') + geom_text(aes(x=keypaper_date, label=\"Key paper's data end date\", y=20))\n",
    "\n",
    "rate_btc_plot"
   ]
  },
  {
   "cell_type": "code",
   "execution_count": 113,
   "metadata": {},
   "outputs": [
    {
     "data": {
      "image/png": "[encoded data removed]",
      "text/plain": [
       "Plot with title \"Histogram of all$rate_kospi\""
      ]
     },
     "metadata": {},
     "output_type": "display_data"
    }
   ],
   "source": [
    "hist(all$rate_kospi, breaks=100)"
   ]
  },
  {
   "cell_type": "code",
   "execution_count": 114,
   "metadata": {},
   "outputs": [
    {
     "data": {
      "text/html": [
       "<table>\n",
       "<caption>A psych: 1 × 13</caption>\n",
       "<thead>\n",
       "\t<tr><th></th><th scope=col>vars</th><th scope=col>n</th><th scope=col>mean</th><th scope=col>sd</th><th scope=col>median</th><th scope=col>trimmed</th><th scope=col>mad</th><th scope=col>min</th><th scope=col>max</th><th scope=col>range</th><th scope=col>skew</th><th scope=col>kurtosis</th><th scope=col>se</th></tr>\n",
       "\t<tr><th></th><th scope=col>&lt;dbl&gt;</th><th scope=col>&lt;dbl&gt;</th><th scope=col>&lt;dbl&gt;</th><th scope=col>&lt;dbl&gt;</th><th scope=col>&lt;dbl&gt;</th><th scope=col>&lt;dbl&gt;</th><th scope=col>&lt;dbl&gt;</th><th scope=col>&lt;dbl&gt;</th><th scope=col>&lt;dbl&gt;</th><th scope=col>&lt;dbl&gt;</th><th scope=col>&lt;dbl&gt;</th><th scope=col>&lt;dbl&gt;</th><th scope=col>&lt;dbl&gt;</th></tr>\n",
       "</thead>\n",
       "<tbody>\n",
       "\t<tr><th scope=row>X1</th><td>1</td><td>1976</td><td>0.000759171</td><td>0.6187916</td><td>0</td><td>0.02108207</td><td>0.2626495</td><td>-4.541103</td><td>3.472777</td><td>8.01388</td><td>-0.612182</td><td>5.167789</td><td>0.01392037</td></tr>\n",
       "</tbody>\n",
       "</table>\n"
      ],
      "text/latex": [
       "A psych: 1 × 13\n",
       "\\begin{tabular}{r|lllllllllllll}\n",
       "  & vars & n & mean & sd & median & trimmed & mad & min & max & range & skew & kurtosis & se\\\\\n",
       "  & <dbl> & <dbl> & <dbl> & <dbl> & <dbl> & <dbl> & <dbl> & <dbl> & <dbl> & <dbl> & <dbl> & <dbl> & <dbl>\\\\\n",
       "\\hline\n",
       "\tX1 & 1 & 1976 & 0.000759171 & 0.6187916 & 0 & 0.02108207 & 0.2626495 & -4.541103 & 3.472777 & 8.01388 & -0.612182 & 5.167789 & 0.01392037\\\\\n",
       "\\end{tabular}\n"
      ],
      "text/markdown": [
       "\n",
       "A psych: 1 × 13\n",
       "\n",
       "| <!--/--> | vars &lt;dbl&gt; | n &lt;dbl&gt; | mean &lt;dbl&gt; | sd &lt;dbl&gt; | median &lt;dbl&gt; | trimmed &lt;dbl&gt; | mad &lt;dbl&gt; | min &lt;dbl&gt; | max &lt;dbl&gt; | range &lt;dbl&gt; | skew &lt;dbl&gt; | kurtosis &lt;dbl&gt; | se &lt;dbl&gt; |\n",
       "|---|---|---|---|---|---|---|---|---|---|---|---|---|---|\n",
       "| X1 | 1 | 1976 | 0.000759171 | 0.6187916 | 0 | 0.02108207 | 0.2626495 | -4.541103 | 3.472777 | 8.01388 | -0.612182 | 5.167789 | 0.01392037 |\n",
       "\n"
      ],
      "text/plain": [
       "   vars n    mean        sd        median trimmed    mad       min      \n",
       "X1 1    1976 0.000759171 0.6187916 0      0.02108207 0.2626495 -4.541103\n",
       "   max      range   skew      kurtosis se        \n",
       "X1 3.472777 8.01388 -0.612182 5.167789 0.01392037"
      ]
     },
     "metadata": {},
     "output_type": "display_data"
    }
   ],
   "source": [
    "describe(all$rate_kospi)"
   ]
  },
  {
   "cell_type": "code",
   "execution_count": 103,
   "metadata": {},
   "outputs": [
    {
     "data": {
      "image/png": "[encoded data removed]",
      "text/plain": [
       "plot without title"
      ]
     },
     "metadata": {},
     "output_type": "display_data"
    }
   ],
   "source": [
    "ggplot(data=all, aes(x=index(all), y=fed_rate)) + geom_line() + \n",
    "geom_vline(xintercept=keypaper_date, color='blue') + geom_text(aes(x=keypaper_date, label=\"Key paper's data end date\", y=3))"
   ]
  },
  {
   "cell_type": "markdown",
   "metadata": {},
   "source": [
    "# 2. Check stationarity - unit root test\n",
    "\n",
    "Using ADF(Augmented Dickey-Fuller test)\n",
    "\n",
    "H0: B = 1 (unit root)\n",
    "\n",
    "H1: B < 1  "
   ]
  },
  {
   "cell_type": "markdown",
   "metadata": {},
   "source": [
    "### 1. Original price data - expected to be non-stationary"
   ]
  },
  {
   "cell_type": "code",
   "execution_count": 85,
   "metadata": {},
   "outputs": [
    {
     "name": "stdout",
     "output_type": "stream",
     "text": [
      "Augmented Dickey-Fuller Test \n",
      "alternative: stationary \n",
      " \n",
      "Type 1: no drift no trend \n",
      "     lag    ADF p.value\n",
      "[1,]   0 -0.476   0.507\n",
      "[2,]   1 -0.619   0.458\n",
      "[3,]   2 -0.559   0.479\n",
      "[4,]   3 -0.528   0.490\n",
      "[5,]   4 -0.418   0.524\n",
      "Type 2: with drift no trend \n",
      "     lag   ADF p.value\n",
      "[1,]   0 -1.17   0.641\n",
      "[2,]   1 -1.31   0.591\n",
      "[3,]   2 -1.25   0.613\n",
      "[4,]   3 -1.21   0.626\n",
      "[5,]   4 -1.11   0.665\n",
      "Type 3: with drift and trend \n",
      "     lag   ADF p.value\n",
      "[1,]   0 -2.23   0.481\n",
      "[2,]   1 -2.39   0.412\n",
      "[3,]   2 -2.32   0.439\n",
      "[4,]   3 -2.30   0.451\n",
      "[5,]   4 -2.18   0.499\n",
      "---- \n",
      "Note: in fact, p.value = 0.01 means p.value <= 0.01 \n"
     ]
    }
   ],
   "source": [
    "adf.test(matrix(all$close), nlag=5)"
   ]
  },
  {
   "cell_type": "markdown",
   "metadata": {},
   "source": [
    "As expected, we cannot reject H0: there exist a unit root \n",
    "\n",
    "Therefore the original price data is non-stationary. \n",
    "\n",
    "It is unnecessary to perform this on hourly/before/after data"
   ]
  },
  {
   "cell_type": "markdown",
   "metadata": {},
   "source": [
    "### 2. log-log differenced price data "
   ]
  },
  {
   "cell_type": "code",
   "execution_count": 86,
   "metadata": {},
   "outputs": [
    {
     "name": "stdout",
     "output_type": "stream",
     "text": [
      "Augmented Dickey-Fuller Test \n",
      "alternative: stationary \n",
      " \n",
      "Type 1: no drift no trend \n",
      "     lag   ADF p.value\n",
      "[1,]   0 -44.5    0.01\n",
      "[2,]   1 -32.5    0.01\n",
      "[3,]   2 -25.2    0.01\n",
      "[4,]   3 -22.4    0.01\n",
      "[5,]   4 -19.7    0.01\n",
      "Type 2: with drift no trend \n",
      "     lag   ADF p.value\n",
      "[1,]   0 -44.5    0.01\n",
      "[2,]   1 -32.5    0.01\n",
      "[3,]   2 -25.3    0.01\n",
      "[4,]   3 -22.5    0.01\n",
      "[5,]   4 -19.7    0.01\n",
      "Type 3: with drift and trend \n",
      "     lag   ADF p.value\n",
      "[1,]   0 -44.5    0.01\n",
      "[2,]   1 -32.6    0.01\n",
      "[3,]   2 -25.3    0.01\n",
      "[4,]   3 -22.5    0.01\n",
      "[5,]   4 -19.8    0.01\n",
      "---- \n",
      "Note: in fact, p.value = 0.01 means p.value <= 0.01 \n"
     ]
    }
   ],
   "source": [
    "adf.test(matrix(all$rate_btc), nlag=5)"
   ]
  },
  {
   "cell_type": "markdown",
   "metadata": {},
   "source": []
  },
  {
   "cell_type": "code",
   "execution_count": null,
   "metadata": {},
   "outputs": [],
   "source": []
  }
 ],
 "metadata": {
  "kernelspec": {
   "display_name": "R",
   "language": "R",
   "name": "ir"
  },
  "language_info": {
   "codemirror_mode": "r",
   "file_extension": ".r",
   "mimetype": "text/x-r-source",
   "name": "R",
   "pygments_lexer": "r",
   "version": "3.6.0"
  }
 },
 "nbformat": 4,
 "nbformat_minor": 2
}
