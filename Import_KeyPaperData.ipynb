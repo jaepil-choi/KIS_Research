{
 "cells": [
  {
   "cell_type": "markdown",
   "metadata": {},
   "source": [
    "# Import and process all corresponding data from the key paper. \n",
    "\n",
    "#### * Key Paper: https://www.sciencedirect.com/science/article/abs/pii/S1544612315001038\n",
    "\n",
    "    * Title: Bitcoin, gold and the dollar – A GARCH volatility analysis\n",
    "\n",
    "    * Author: Anne Haubo Dyhrberg\n",
    "\n",
    "    * Publication: Finance Research Letters\n",
    "\n",
    "    * Publisher: Elsevier\n",
    "\n",
    "    * Date: February 2016"
   ]
  },
  {
   "cell_type": "markdown",
   "metadata": {},
   "source": [
    "Will be importing \n",
    "\n",
    "1. FEDFUND.csv - monthly effective fed rate. (data source: FRED)\n",
    "\n",
    "2. GOLDPMGBD228NLBM.csv - daily Gold Fixing Price 3:00 PM (London Time) in London Bullion Market, based in USD. (data source: FRED)\n",
    "\n",
    "3. KOSPI_index_20060512-20190612.xls - daily KOSPI index. (data source: KRX)\n",
    "\n",
    "4. BOK_8.8.1.1원달러환율.csv - daily KRW/USD Exchange Rate (data source: BOK)\n",
    "\n",
    "5. BTC.pkl - scraped daily BTC/USD data (includes volume & market cap) (data source: coinmarketcap.com)\n",
    "\n",
    "and process them to daily dataframe from 2014.01.01 ~ "
   ]
  },
  {
   "cell_type": "code",
   "execution_count": 1,
   "metadata": {},
   "outputs": [],
   "source": [
    "import pandas as pd"
   ]
  },
  {
   "cell_type": "markdown",
   "metadata": {},
   "source": [
    "1. Fed fund rate data"
   ]
  },
  {
   "cell_type": "code",
   "execution_count": 37,
   "metadata": {},
   "outputs": [
    {
     "data": {
      "text/html": [
       "<div>\n",
       "<style scoped>\n",
       "    .dataframe tbody tr th:only-of-type {\n",
       "        vertical-align: middle;\n",
       "    }\n",
       "\n",
       "    .dataframe tbody tr th {\n",
       "        vertical-align: top;\n",
       "    }\n",
       "\n",
       "    .dataframe thead th {\n",
       "        text-align: right;\n",
       "    }\n",
       "</style>\n",
       "<table border=\"1\" class=\"dataframe\">\n",
       "  <thead>\n",
       "    <tr style=\"text-align: right;\">\n",
       "      <th></th>\n",
       "      <th>DATE</th>\n",
       "      <th>FEDFUNDS</th>\n",
       "    </tr>\n",
       "  </thead>\n",
       "  <tbody>\n",
       "    <tr>\n",
       "      <th>0</th>\n",
       "      <td>1954-07-01</td>\n",
       "      <td>0.80</td>\n",
       "    </tr>\n",
       "    <tr>\n",
       "      <th>1</th>\n",
       "      <td>1954-08-01</td>\n",
       "      <td>1.22</td>\n",
       "    </tr>\n",
       "    <tr>\n",
       "      <th>2</th>\n",
       "      <td>1954-09-01</td>\n",
       "      <td>1.06</td>\n",
       "    </tr>\n",
       "    <tr>\n",
       "      <th>3</th>\n",
       "      <td>1954-10-01</td>\n",
       "      <td>0.85</td>\n",
       "    </tr>\n",
       "    <tr>\n",
       "      <th>4</th>\n",
       "      <td>1954-11-01</td>\n",
       "      <td>0.83</td>\n",
       "    </tr>\n",
       "  </tbody>\n",
       "</table>\n",
       "</div>"
      ],
      "text/plain": [
       "         DATE  FEDFUNDS\n",
       "0  1954-07-01      0.80\n",
       "1  1954-08-01      1.22\n",
       "2  1954-09-01      1.06\n",
       "3  1954-10-01      0.85\n",
       "4  1954-11-01      0.83"
      ]
     },
     "execution_count": 37,
     "metadata": {},
     "output_type": "execute_result"
    }
   ],
   "source": [
    "fed = pd.read_csv(\"./keypaperdata/FEDFUNDS.csv\")\n",
    "fed.head()"
   ]
  },
  {
   "cell_type": "code",
   "execution_count": 38,
   "metadata": {},
   "outputs": [
    {
     "data": {
      "text/html": [
       "<div>\n",
       "<style scoped>\n",
       "    .dataframe tbody tr th:only-of-type {\n",
       "        vertical-align: middle;\n",
       "    }\n",
       "\n",
       "    .dataframe tbody tr th {\n",
       "        vertical-align: top;\n",
       "    }\n",
       "\n",
       "    .dataframe thead th {\n",
       "        text-align: right;\n",
       "    }\n",
       "</style>\n",
       "<table border=\"1\" class=\"dataframe\">\n",
       "  <thead>\n",
       "    <tr style=\"text-align: right;\">\n",
       "      <th></th>\n",
       "      <th>fed_rate</th>\n",
       "    </tr>\n",
       "    <tr>\n",
       "      <th>date</th>\n",
       "      <th></th>\n",
       "    </tr>\n",
       "  </thead>\n",
       "  <tbody>\n",
       "    <tr>\n",
       "      <th>2014-01-01</th>\n",
       "      <td>0.07</td>\n",
       "    </tr>\n",
       "    <tr>\n",
       "      <th>2014-02-01</th>\n",
       "      <td>0.07</td>\n",
       "    </tr>\n",
       "    <tr>\n",
       "      <th>2014-03-01</th>\n",
       "      <td>0.08</td>\n",
       "    </tr>\n",
       "    <tr>\n",
       "      <th>2014-04-01</th>\n",
       "      <td>0.09</td>\n",
       "    </tr>\n",
       "    <tr>\n",
       "      <th>2014-05-01</th>\n",
       "      <td>0.09</td>\n",
       "    </tr>\n",
       "  </tbody>\n",
       "</table>\n",
       "</div>"
      ],
      "text/plain": [
       "            fed_rate\n",
       "date                \n",
       "2014-01-01      0.07\n",
       "2014-02-01      0.07\n",
       "2014-03-01      0.08\n",
       "2014-04-01      0.09\n",
       "2014-05-01      0.09"
      ]
     },
     "execution_count": 38,
     "metadata": {},
     "output_type": "execute_result"
    }
   ],
   "source": [
    "fed.columns = ['date', 'fed_rate']\n",
    "fed.date = pd.to_datetime(fed.date)\n",
    "fed.set_index('date', inplace=True)\n",
    "\n",
    "fed = fed[fed.index >= pd.to_datetime('2014-01-01')]\n",
    "fed.head()"
   ]
  },
  {
   "cell_type": "code",
   "execution_count": 85,
   "metadata": {},
   "outputs": [
    {
     "data": {
      "text/plain": [
       "fed_rate    float64\n",
       "dtype: object"
      ]
     },
     "execution_count": 85,
     "metadata": {},
     "output_type": "execute_result"
    }
   ],
   "source": [
    "fed.dtypes"
   ]
  },
  {
   "cell_type": "markdown",
   "metadata": {},
   "source": [
    "2. Gold"
   ]
  },
  {
   "cell_type": "code",
   "execution_count": 69,
   "metadata": {},
   "outputs": [
    {
     "data": {
      "text/html": [
       "<div>\n",
       "<style scoped>\n",
       "    .dataframe tbody tr th:only-of-type {\n",
       "        vertical-align: middle;\n",
       "    }\n",
       "\n",
       "    .dataframe tbody tr th {\n",
       "        vertical-align: top;\n",
       "    }\n",
       "\n",
       "    .dataframe thead th {\n",
       "        text-align: right;\n",
       "    }\n",
       "</style>\n",
       "<table border=\"1\" class=\"dataframe\">\n",
       "  <thead>\n",
       "    <tr style=\"text-align: right;\">\n",
       "      <th></th>\n",
       "      <th>DATE</th>\n",
       "      <th>GOLDPMGBD228NLBM</th>\n",
       "    </tr>\n",
       "  </thead>\n",
       "  <tbody>\n",
       "    <tr>\n",
       "      <th>0</th>\n",
       "      <td>2009-06-11</td>\n",
       "      <td>947.500</td>\n",
       "    </tr>\n",
       "    <tr>\n",
       "      <th>1</th>\n",
       "      <td>2009-06-12</td>\n",
       "      <td>937.250</td>\n",
       "    </tr>\n",
       "    <tr>\n",
       "      <th>2</th>\n",
       "      <td>2009-06-15</td>\n",
       "      <td>932.250</td>\n",
       "    </tr>\n",
       "    <tr>\n",
       "      <th>3</th>\n",
       "      <td>2009-06-16</td>\n",
       "      <td>934.000</td>\n",
       "    </tr>\n",
       "    <tr>\n",
       "      <th>4</th>\n",
       "      <td>2009-06-17</td>\n",
       "      <td>930.500</td>\n",
       "    </tr>\n",
       "  </tbody>\n",
       "</table>\n",
       "</div>"
      ],
      "text/plain": [
       "         DATE GOLDPMGBD228NLBM\n",
       "0  2009-06-11          947.500\n",
       "1  2009-06-12          937.250\n",
       "2  2009-06-15          932.250\n",
       "3  2009-06-16          934.000\n",
       "4  2009-06-17          930.500"
      ]
     },
     "execution_count": 69,
     "metadata": {},
     "output_type": "execute_result"
    }
   ],
   "source": [
    "gold = pd.read_csv('./keypaperdata/GOLDPMGBD228NLBM.csv')\n",
    "gold.head()"
   ]
  },
  {
   "cell_type": "code",
   "execution_count": 70,
   "metadata": {},
   "outputs": [
    {
     "data": {
      "text/html": [
       "<div>\n",
       "<style scoped>\n",
       "    .dataframe tbody tr th:only-of-type {\n",
       "        vertical-align: middle;\n",
       "    }\n",
       "\n",
       "    .dataframe tbody tr th {\n",
       "        vertical-align: top;\n",
       "    }\n",
       "\n",
       "    .dataframe thead th {\n",
       "        text-align: right;\n",
       "    }\n",
       "</style>\n",
       "<table border=\"1\" class=\"dataframe\">\n",
       "  <thead>\n",
       "    <tr style=\"text-align: right;\">\n",
       "      <th></th>\n",
       "      <th>gold_usd</th>\n",
       "    </tr>\n",
       "    <tr>\n",
       "      <th>date</th>\n",
       "      <th></th>\n",
       "    </tr>\n",
       "  </thead>\n",
       "  <tbody>\n",
       "    <tr>\n",
       "      <th>2014-01-01</th>\n",
       "      <td>1204.50</td>\n",
       "    </tr>\n",
       "    <tr>\n",
       "      <th>2014-01-02</th>\n",
       "      <td>1225.00</td>\n",
       "    </tr>\n",
       "    <tr>\n",
       "      <th>2014-01-03</th>\n",
       "      <td>1234.50</td>\n",
       "    </tr>\n",
       "    <tr>\n",
       "      <th>2014-01-06</th>\n",
       "      <td>1246.25</td>\n",
       "    </tr>\n",
       "    <tr>\n",
       "      <th>2014-01-07</th>\n",
       "      <td>1227.50</td>\n",
       "    </tr>\n",
       "  </tbody>\n",
       "</table>\n",
       "</div>"
      ],
      "text/plain": [
       "            gold_usd\n",
       "date                \n",
       "2014-01-01   1204.50\n",
       "2014-01-02   1225.00\n",
       "2014-01-03   1234.50\n",
       "2014-01-06   1246.25\n",
       "2014-01-07   1227.50"
      ]
     },
     "execution_count": 70,
     "metadata": {},
     "output_type": "execute_result"
    }
   ],
   "source": [
    "gold.columns = ['date', 'gold_usd']\n",
    "gold.date = pd.to_datetime(gold.date)\n",
    "gold.set_index('date', inplace=True)\n",
    "\n",
    "gold.gold_usd.replace(to_replace='.', method='pad', inplace=True)\n",
    "\n",
    "gold = gold[gold.index >= pd.to_datetime('2014-01-01')]\n",
    "gold.gold_usd = pd.to_numeric(gold.gold_usd)\n",
    "gold.head()"
   ]
  },
  {
   "cell_type": "code",
   "execution_count": 84,
   "metadata": {},
   "outputs": [
    {
     "data": {
      "text/plain": [
       "gold_usd    float64\n",
       "dtype: object"
      ]
     },
     "execution_count": 84,
     "metadata": {},
     "output_type": "execute_result"
    }
   ],
   "source": [
    "gold.dtypes"
   ]
  },
  {
   "cell_type": "markdown",
   "metadata": {},
   "source": [
    "3. KOSPI"
   ]
  },
  {
   "cell_type": "code",
   "execution_count": 81,
   "metadata": {},
   "outputs": [
    {
     "data": {
      "text/html": [
       "<div>\n",
       "<style scoped>\n",
       "    .dataframe tbody tr th:only-of-type {\n",
       "        vertical-align: middle;\n",
       "    }\n",
       "\n",
       "    .dataframe tbody tr th {\n",
       "        vertical-align: top;\n",
       "    }\n",
       "\n",
       "    .dataframe thead th {\n",
       "        text-align: right;\n",
       "    }\n",
       "</style>\n",
       "<table border=\"1\" class=\"dataframe\">\n",
       "  <thead>\n",
       "    <tr style=\"text-align: right;\">\n",
       "      <th></th>\n",
       "      <th>일자</th>\n",
       "      <th>현재지수</th>\n",
       "      <th>대비</th>\n",
       "      <th>등락률(%)</th>\n",
       "      <th>배당수익률(%)</th>\n",
       "      <th>주가이익비율</th>\n",
       "      <th>주가자산비율</th>\n",
       "      <th>시가지수</th>\n",
       "      <th>고가지수</th>\n",
       "      <th>저가지수</th>\n",
       "      <th>거래량(천주)</th>\n",
       "      <th>거래대금(백만원)</th>\n",
       "      <th>상장시가총액(백만원)</th>\n",
       "    </tr>\n",
       "  </thead>\n",
       "  <tbody>\n",
       "    <tr>\n",
       "      <th>0</th>\n",
       "      <td>2006/05/12</td>\n",
       "      <td>1445.20</td>\n",
       "      <td>-19.50</td>\n",
       "      <td>-1.33</td>\n",
       "      <td>1.58</td>\n",
       "      <td>11.91</td>\n",
       "      <td>1.49</td>\n",
       "      <td>1448.57</td>\n",
       "      <td>1454.14</td>\n",
       "      <td>1429.92</td>\n",
       "      <td>260776</td>\n",
       "      <td>3755880</td>\n",
       "      <td>705654732</td>\n",
       "    </tr>\n",
       "    <tr>\n",
       "      <th>1</th>\n",
       "      <td>2006/05/15</td>\n",
       "      <td>1413.98</td>\n",
       "      <td>-31.22</td>\n",
       "      <td>-2.16</td>\n",
       "      <td>1.61</td>\n",
       "      <td>11.65</td>\n",
       "      <td>1.46</td>\n",
       "      <td>1424.58</td>\n",
       "      <td>1424.58</td>\n",
       "      <td>1406.88</td>\n",
       "      <td>250685</td>\n",
       "      <td>3936334</td>\n",
       "      <td>690651191</td>\n",
       "    </tr>\n",
       "    <tr>\n",
       "      <th>2</th>\n",
       "      <td>2006/05/16</td>\n",
       "      <td>1382.11</td>\n",
       "      <td>-31.87</td>\n",
       "      <td>-2.25</td>\n",
       "      <td>1.65</td>\n",
       "      <td>11.39</td>\n",
       "      <td>1.42</td>\n",
       "      <td>1415.81</td>\n",
       "      <td>1416.45</td>\n",
       "      <td>1373.52</td>\n",
       "      <td>285855</td>\n",
       "      <td>4439085</td>\n",
       "      <td>675119442</td>\n",
       "    </tr>\n",
       "    <tr>\n",
       "      <th>3</th>\n",
       "      <td>2006/05/17</td>\n",
       "      <td>1401.47</td>\n",
       "      <td>19.36</td>\n",
       "      <td>1.40</td>\n",
       "      <td>1.63</td>\n",
       "      <td>11.55</td>\n",
       "      <td>1.44</td>\n",
       "      <td>1386.93</td>\n",
       "      <td>1403.68</td>\n",
       "      <td>1386.93</td>\n",
       "      <td>270248</td>\n",
       "      <td>3829181</td>\n",
       "      <td>684397074</td>\n",
       "    </tr>\n",
       "    <tr>\n",
       "      <th>4</th>\n",
       "      <td>2006/05/18</td>\n",
       "      <td>1365.15</td>\n",
       "      <td>-36.32</td>\n",
       "      <td>-2.59</td>\n",
       "      <td>1.67</td>\n",
       "      <td>11.24</td>\n",
       "      <td>1.40</td>\n",
       "      <td>1360.76</td>\n",
       "      <td>1366.78</td>\n",
       "      <td>1356.04</td>\n",
       "      <td>355783</td>\n",
       "      <td>3911213</td>\n",
       "      <td>666633613</td>\n",
       "    </tr>\n",
       "  </tbody>\n",
       "</table>\n",
       "</div>"
      ],
      "text/plain": [
       "           일자     현재지수     대비  등락률(%)  배당수익률(%)  주가이익비율  주가자산비율     시가지수  \\\n",
       "0  2006/05/12  1445.20 -19.50   -1.33      1.58   11.91    1.49  1448.57   \n",
       "1  2006/05/15  1413.98 -31.22   -2.16      1.61   11.65    1.46  1424.58   \n",
       "2  2006/05/16  1382.11 -31.87   -2.25      1.65   11.39    1.42  1415.81   \n",
       "3  2006/05/17  1401.47  19.36    1.40      1.63   11.55    1.44  1386.93   \n",
       "4  2006/05/18  1365.15 -36.32   -2.59      1.67   11.24    1.40  1360.76   \n",
       "\n",
       "      고가지수     저가지수  거래량(천주)  거래대금(백만원)  상장시가총액(백만원)  \n",
       "0  1454.14  1429.92   260776    3755880    705654732  \n",
       "1  1424.58  1406.88   250685    3936334    690651191  \n",
       "2  1416.45  1373.52   285855    4439085    675119442  \n",
       "3  1403.68  1386.93   270248    3829181    684397074  \n",
       "4  1366.78  1356.04   355783    3911213    666633613  "
      ]
     },
     "execution_count": 81,
     "metadata": {},
     "output_type": "execute_result"
    }
   ],
   "source": [
    "kospi = pd.read_excel(pd.ExcelFile(\"./keypaperdata/KOSPI_index_20060512-20190612.xls\"), 'Sheet1', thousands=',')\n",
    "kospi.head()"
   ]
  },
  {
   "cell_type": "code",
   "execution_count": 82,
   "metadata": {},
   "outputs": [
    {
     "data": {
      "text/html": [
       "<div>\n",
       "<style scoped>\n",
       "    .dataframe tbody tr th:only-of-type {\n",
       "        vertical-align: middle;\n",
       "    }\n",
       "\n",
       "    .dataframe tbody tr th {\n",
       "        vertical-align: top;\n",
       "    }\n",
       "\n",
       "    .dataframe thead th {\n",
       "        text-align: right;\n",
       "    }\n",
       "</style>\n",
       "<table border=\"1\" class=\"dataframe\">\n",
       "  <thead>\n",
       "    <tr style=\"text-align: right;\">\n",
       "      <th></th>\n",
       "      <th>kospi</th>\n",
       "    </tr>\n",
       "    <tr>\n",
       "      <th>date</th>\n",
       "      <th></th>\n",
       "    </tr>\n",
       "  </thead>\n",
       "  <tbody>\n",
       "    <tr>\n",
       "      <th>2014-01-02</th>\n",
       "      <td>1967.19</td>\n",
       "    </tr>\n",
       "    <tr>\n",
       "      <th>2014-01-03</th>\n",
       "      <td>1946.14</td>\n",
       "    </tr>\n",
       "    <tr>\n",
       "      <th>2014-01-06</th>\n",
       "      <td>1953.28</td>\n",
       "    </tr>\n",
       "    <tr>\n",
       "      <th>2014-01-07</th>\n",
       "      <td>1959.44</td>\n",
       "    </tr>\n",
       "    <tr>\n",
       "      <th>2014-01-08</th>\n",
       "      <td>1958.96</td>\n",
       "    </tr>\n",
       "  </tbody>\n",
       "</table>\n",
       "</div>"
      ],
      "text/plain": [
       "              kospi\n",
       "date               \n",
       "2014-01-02  1967.19\n",
       "2014-01-03  1946.14\n",
       "2014-01-06  1953.28\n",
       "2014-01-07  1959.44\n",
       "2014-01-08  1958.96"
      ]
     },
     "execution_count": 82,
     "metadata": {},
     "output_type": "execute_result"
    }
   ],
   "source": [
    "kospi = kospi[['일자', '현재지수']]\n",
    "kospi.columns = ['date', 'kospi']\n",
    "kospi.date = pd.to_datetime(kospi.date)\n",
    "kospi.set_index('date', inplace=True)\n",
    "\n",
    "kospi = kospi[kospi.index >= pd.to_datetime('2014-01-01')]\n",
    "kospi.head()"
   ]
  },
  {
   "cell_type": "code",
   "execution_count": 83,
   "metadata": {},
   "outputs": [
    {
     "data": {
      "text/plain": [
       "kospi    float64\n",
       "dtype: object"
      ]
     },
     "execution_count": 83,
     "metadata": {},
     "output_type": "execute_result"
    }
   ],
   "source": [
    "kospi.dtypes"
   ]
  },
  {
   "cell_type": "markdown",
   "metadata": {},
   "source": [
    "4. KRW/USD exchange rate"
   ]
  },
  {
   "cell_type": "code",
   "execution_count": 86,
   "metadata": {},
   "outputs": [
    {
     "data": {
      "text/html": [
       "<div>\n",
       "<style scoped>\n",
       "    .dataframe tbody tr th:only-of-type {\n",
       "        vertical-align: middle;\n",
       "    }\n",
       "\n",
       "    .dataframe tbody tr th {\n",
       "        vertical-align: top;\n",
       "    }\n",
       "\n",
       "    .dataframe thead th {\n",
       "        text-align: right;\n",
       "    }\n",
       "</style>\n",
       "<table border=\"1\" class=\"dataframe\">\n",
       "  <thead>\n",
       "    <tr style=\"text-align: right;\">\n",
       "      <th></th>\n",
       "      <th>변환</th>\n",
       "      <th>원자료</th>\n",
       "    </tr>\n",
       "  </thead>\n",
       "  <tbody>\n",
       "    <tr>\n",
       "      <th>0</th>\n",
       "      <td>2011/05/01</td>\n",
       "      <td>NaN</td>\n",
       "    </tr>\n",
       "    <tr>\n",
       "      <th>1</th>\n",
       "      <td>2011/05/02</td>\n",
       "      <td>1073.3</td>\n",
       "    </tr>\n",
       "    <tr>\n",
       "      <th>2</th>\n",
       "      <td>2011/05/03</td>\n",
       "      <td>1066.8</td>\n",
       "    </tr>\n",
       "    <tr>\n",
       "      <th>3</th>\n",
       "      <td>2011/05/04</td>\n",
       "      <td>1070.2</td>\n",
       "    </tr>\n",
       "    <tr>\n",
       "      <th>4</th>\n",
       "      <td>2011/05/05</td>\n",
       "      <td>NaN</td>\n",
       "    </tr>\n",
       "  </tbody>\n",
       "</table>\n",
       "</div>"
      ],
      "text/plain": [
       "           변환     원자료\n",
       "0  2011/05/01     NaN\n",
       "1  2011/05/02  1073.3\n",
       "2  2011/05/03  1066.8\n",
       "3  2011/05/04  1070.2\n",
       "4  2011/05/05     NaN"
      ]
     },
     "execution_count": 86,
     "metadata": {},
     "output_type": "execute_result"
    }
   ],
   "source": [
    "# OSError raised if engine='python' is not used. \n",
    "krwusd = pd.read_csv('./keypaperdata/BOK_8.8.1.1원달러환율.csv', skiprows=3, engine='python', thousands=',')\n",
    "krwusd.head()"
   ]
  },
  {
   "cell_type": "code",
   "execution_count": 87,
   "metadata": {},
   "outputs": [],
   "source": [
    "krwusd.columns = ['date', 'ex_rate']\n",
    "krwusd.date = pd.to_datetime(krwusd.date)\n",
    "krwusd.set_index('date', inplace=True)"
   ]
  },
  {
   "cell_type": "markdown",
   "metadata": {},
   "source": [
    "* pd.Dataframe.fillna(method=)\n",
    "\n",
    "    - pad / ffill: propagate last valid observation forward to next valid\n",
    "    - backfill / bfill: use NEXT valid observation to fill gap"
   ]
  },
  {
   "cell_type": "code",
   "execution_count": 88,
   "metadata": {},
   "outputs": [
    {
     "data": {
      "text/html": [
       "<div>\n",
       "<style scoped>\n",
       "    .dataframe tbody tr th:only-of-type {\n",
       "        vertical-align: middle;\n",
       "    }\n",
       "\n",
       "    .dataframe tbody tr th {\n",
       "        vertical-align: top;\n",
       "    }\n",
       "\n",
       "    .dataframe thead th {\n",
       "        text-align: right;\n",
       "    }\n",
       "</style>\n",
       "<table border=\"1\" class=\"dataframe\">\n",
       "  <thead>\n",
       "    <tr style=\"text-align: right;\">\n",
       "      <th></th>\n",
       "      <th>ex_rate</th>\n",
       "    </tr>\n",
       "    <tr>\n",
       "      <th>date</th>\n",
       "      <th></th>\n",
       "    </tr>\n",
       "  </thead>\n",
       "  <tbody>\n",
       "    <tr>\n",
       "      <th>2014-01-01</th>\n",
       "      <td>1055.3</td>\n",
       "    </tr>\n",
       "    <tr>\n",
       "      <th>2014-01-02</th>\n",
       "      <td>1055.3</td>\n",
       "    </tr>\n",
       "    <tr>\n",
       "      <th>2014-01-03</th>\n",
       "      <td>1050.4</td>\n",
       "    </tr>\n",
       "    <tr>\n",
       "      <th>2014-01-04</th>\n",
       "      <td>1050.4</td>\n",
       "    </tr>\n",
       "    <tr>\n",
       "      <th>2014-01-05</th>\n",
       "      <td>1050.4</td>\n",
       "    </tr>\n",
       "  </tbody>\n",
       "</table>\n",
       "</div>"
      ],
      "text/plain": [
       "            ex_rate\n",
       "date               \n",
       "2014-01-01   1055.3\n",
       "2014-01-02   1055.3\n",
       "2014-01-03   1050.4\n",
       "2014-01-04   1050.4\n",
       "2014-01-05   1050.4"
      ]
     },
     "execution_count": 88,
     "metadata": {},
     "output_type": "execute_result"
    }
   ],
   "source": [
    "# pd.DataFrame.fillna?\n",
    "krwusd.ex_rate.fillna(method='ffill', inplace=True)\n",
    "\n",
    "krwusd = krwusd[krwusd.index >= pd.to_datetime('2014-01-01')]\n",
    "krwusd.head()"
   ]
  },
  {
   "cell_type": "code",
   "execution_count": 89,
   "metadata": {},
   "outputs": [
    {
     "data": {
      "text/plain": [
       "ex_rate    float64\n",
       "dtype: object"
      ]
     },
     "execution_count": 89,
     "metadata": {},
     "output_type": "execute_result"
    }
   ],
   "source": [
    "krwusd.dtypes"
   ]
  },
  {
   "cell_type": "markdown",
   "metadata": {},
   "source": [
    "5. BTC"
   ]
  },
  {
   "cell_type": "code",
   "execution_count": 51,
   "metadata": {},
   "outputs": [
    {
     "data": {
      "text/html": [
       "<div>\n",
       "<style scoped>\n",
       "    .dataframe tbody tr th:only-of-type {\n",
       "        vertical-align: middle;\n",
       "    }\n",
       "\n",
       "    .dataframe tbody tr th {\n",
       "        vertical-align: top;\n",
       "    }\n",
       "\n",
       "    .dataframe thead th {\n",
       "        text-align: right;\n",
       "    }\n",
       "</style>\n",
       "<table border=\"1\" class=\"dataframe\">\n",
       "  <thead>\n",
       "    <tr style=\"text-align: right;\">\n",
       "      <th></th>\n",
       "      <th>Date</th>\n",
       "      <th>Open</th>\n",
       "      <th>High</th>\n",
       "      <th>Low</th>\n",
       "      <th>Close</th>\n",
       "      <th>Volume_USD</th>\n",
       "      <th>MarketCap_USD</th>\n",
       "      <th>Volume_BTC</th>\n",
       "      <th>MarketCap_BTC</th>\n",
       "    </tr>\n",
       "  </thead>\n",
       "  <tbody>\n",
       "    <tr>\n",
       "      <th>0</th>\n",
       "      <td>2019. 06. 12.</td>\n",
       "      <td>7925.43</td>\n",
       "      <td>8196.65</td>\n",
       "      <td>7862.36</td>\n",
       "      <td>8145.86</td>\n",
       "      <td>19034432883</td>\n",
       "      <td>144634684711</td>\n",
       "      <td>2.336700e+06</td>\n",
       "      <td>1.775561e+07</td>\n",
       "    </tr>\n",
       "    <tr>\n",
       "      <th>1</th>\n",
       "      <td>2019. 06. 11.</td>\n",
       "      <td>8004.24</td>\n",
       "      <td>8026.39</td>\n",
       "      <td>7772.80</td>\n",
       "      <td>7927.71</td>\n",
       "      <td>17107279932</td>\n",
       "      <td>140748537530</td>\n",
       "      <td>2.157909e+06</td>\n",
       "      <td>1.775400e+07</td>\n",
       "    </tr>\n",
       "    <tr>\n",
       "      <th>2</th>\n",
       "      <td>2019. 06. 10.</td>\n",
       "      <td>7692.28</td>\n",
       "      <td>8031.91</td>\n",
       "      <td>7586.73</td>\n",
       "      <td>8000.33</td>\n",
       "      <td>18689275117</td>\n",
       "      <td>142023351079</td>\n",
       "      <td>2.336063e+06</td>\n",
       "      <td>1.775219e+07</td>\n",
       "    </tr>\n",
       "    <tr>\n",
       "      <th>3</th>\n",
       "      <td>2019. 06. 09.</td>\n",
       "      <td>7949.67</td>\n",
       "      <td>7975.97</td>\n",
       "      <td>7583.22</td>\n",
       "      <td>7688.08</td>\n",
       "      <td>16610726547</td>\n",
       "      <td>136465098533</td>\n",
       "      <td>2.160582e+06</td>\n",
       "      <td>1.775022e+07</td>\n",
       "    </tr>\n",
       "    <tr>\n",
       "      <th>4</th>\n",
       "      <td>2019. 06. 08.</td>\n",
       "      <td>8036.77</td>\n",
       "      <td>8076.89</td>\n",
       "      <td>7837.61</td>\n",
       "      <td>7954.13</td>\n",
       "      <td>16522722810</td>\n",
       "      <td>141172841635</td>\n",
       "      <td>2.077251e+06</td>\n",
       "      <td>1.774837e+07</td>\n",
       "    </tr>\n",
       "  </tbody>\n",
       "</table>\n",
       "</div>"
      ],
      "text/plain": [
       "            Date     Open     High      Low    Close   Volume_USD  \\\n",
       "0  2019. 06. 12.  7925.43  8196.65  7862.36  8145.86  19034432883   \n",
       "1  2019. 06. 11.  8004.24  8026.39  7772.80  7927.71  17107279932   \n",
       "2  2019. 06. 10.  7692.28  8031.91  7586.73  8000.33  18689275117   \n",
       "3  2019. 06. 09.  7949.67  7975.97  7583.22  7688.08  16610726547   \n",
       "4  2019. 06. 08.  8036.77  8076.89  7837.61  7954.13  16522722810   \n",
       "\n",
       "   MarketCap_USD    Volume_BTC  MarketCap_BTC  \n",
       "0   144634684711  2.336700e+06   1.775561e+07  \n",
       "1   140748537530  2.157909e+06   1.775400e+07  \n",
       "2   142023351079  2.336063e+06   1.775219e+07  \n",
       "3   136465098533  2.160582e+06   1.775022e+07  \n",
       "4   141172841635  2.077251e+06   1.774837e+07  "
      ]
     },
     "execution_count": 51,
     "metadata": {},
     "output_type": "execute_result"
    }
   ],
   "source": [
    "btc = pd.read_pickle('./keypaperdata/BTC.pkl')\n",
    "btc.head()"
   ]
  },
  {
   "cell_type": "code",
   "execution_count": 52,
   "metadata": {},
   "outputs": [
    {
     "data": {
      "text/html": [
       "<div>\n",
       "<style scoped>\n",
       "    .dataframe tbody tr th:only-of-type {\n",
       "        vertical-align: middle;\n",
       "    }\n",
       "\n",
       "    .dataframe tbody tr th {\n",
       "        vertical-align: top;\n",
       "    }\n",
       "\n",
       "    .dataframe thead th {\n",
       "        text-align: right;\n",
       "    }\n",
       "</style>\n",
       "<table border=\"1\" class=\"dataframe\">\n",
       "  <thead>\n",
       "    <tr style=\"text-align: right;\">\n",
       "      <th></th>\n",
       "      <th>close</th>\n",
       "      <th>vol_usd</th>\n",
       "      <th>mktcap_usd</th>\n",
       "      <th>vol_usd</th>\n",
       "      <th>mktcap_usd</th>\n",
       "    </tr>\n",
       "    <tr>\n",
       "      <th>date</th>\n",
       "      <th></th>\n",
       "      <th></th>\n",
       "      <th></th>\n",
       "      <th></th>\n",
       "      <th></th>\n",
       "    </tr>\n",
       "  </thead>\n",
       "  <tbody>\n",
       "    <tr>\n",
       "      <th>2014-01-01</th>\n",
       "      <td>771.40</td>\n",
       "      <td>22489400</td>\n",
       "      <td>9403308145</td>\n",
       "      <td>29154.005704</td>\n",
       "      <td>1.218992e+07</td>\n",
       "    </tr>\n",
       "    <tr>\n",
       "      <th>2014-01-02</th>\n",
       "      <td>802.39</td>\n",
       "      <td>38489500</td>\n",
       "      <td>9781073921</td>\n",
       "      <td>47968.568900</td>\n",
       "      <td>1.218993e+07</td>\n",
       "    </tr>\n",
       "    <tr>\n",
       "      <th>2014-01-03</th>\n",
       "      <td>818.72</td>\n",
       "      <td>37810100</td>\n",
       "      <td>9980135396</td>\n",
       "      <td>46181.966973</td>\n",
       "      <td>1.218992e+07</td>\n",
       "    </tr>\n",
       "    <tr>\n",
       "      <th>2014-01-04</th>\n",
       "      <td>859.51</td>\n",
       "      <td>38005000</td>\n",
       "      <td>10477362437</td>\n",
       "      <td>44217.053903</td>\n",
       "      <td>1.218993e+07</td>\n",
       "    </tr>\n",
       "    <tr>\n",
       "      <th>2014-01-05</th>\n",
       "      <td>933.53</td>\n",
       "      <td>72898496</td>\n",
       "      <td>11379660685</td>\n",
       "      <td>78089.076945</td>\n",
       "      <td>1.218992e+07</td>\n",
       "    </tr>\n",
       "  </tbody>\n",
       "</table>\n",
       "</div>"
      ],
      "text/plain": [
       "             close   vol_usd   mktcap_usd       vol_usd    mktcap_usd\n",
       "date                                                                 \n",
       "2014-01-01  771.40  22489400   9403308145  29154.005704  1.218992e+07\n",
       "2014-01-02  802.39  38489500   9781073921  47968.568900  1.218993e+07\n",
       "2014-01-03  818.72  37810100   9980135396  46181.966973  1.218992e+07\n",
       "2014-01-04  859.51  38005000  10477362437  44217.053903  1.218993e+07\n",
       "2014-01-05  933.53  72898496  11379660685  78089.076945  1.218992e+07"
      ]
     },
     "execution_count": 52,
     "metadata": {},
     "output_type": "execute_result"
    }
   ],
   "source": [
    "btc = btc[['Date', 'Close', 'Volume_USD', 'MarketCap_USD', 'Volume_BTC', 'MarketCap_BTC']]\n",
    "btc.columns = ['date', 'close', 'vol_usd', 'mktcap_usd', 'vol_usd', 'mktcap_usd']\n",
    "btc.date = pd.to_datetime(btc.date)\n",
    "btc.set_index('date', inplace=True)\n",
    "btc = btc.iloc[::-1]\n",
    "btc.head()"
   ]
  },
  {
   "cell_type": "code",
   "execution_count": 90,
   "metadata": {},
   "outputs": [
    {
     "data": {
      "text/plain": [
       "close         float64\n",
       "vol_usd         int64\n",
       "mktcap_usd      int64\n",
       "vol_usd       float64\n",
       "mktcap_usd    float64\n",
       "dtype: object"
      ]
     },
     "execution_count": 90,
     "metadata": {},
     "output_type": "execute_result"
    }
   ],
   "source": [
    "btc.dtypes"
   ]
  },
  {
   "cell_type": "code",
   "execution_count": null,
   "metadata": {},
   "outputs": [],
   "source": []
  }
 ],
 "metadata": {
  "kernelspec": {
   "display_name": "Python 3",
   "language": "python",
   "name": "python3"
  },
  "language_info": {
   "codemirror_mode": {
    "name": "ipython",
    "version": 3
   },
   "file_extension": ".py",
   "mimetype": "text/x-python",
   "name": "python",
   "nbconvert_exporter": "python",
   "pygments_lexer": "ipython3",
   "version": "3.6.5"
  }
 },
 "nbformat": 4,
 "nbformat_minor": 2
}
