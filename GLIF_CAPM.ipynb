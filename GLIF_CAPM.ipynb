{
 "cells": [
  {
   "cell_type": "markdown",
   "metadata": {},
   "source": [
    "# GLIF 발표용 CAPM 적용 코드\n",
    "\n",
    "http://blog.naver.com/PostView.nhn?blogId=the_bhm&logNo=220707781934 를 참고하여 작성하였음. "
   ]
  },
  {
   "cell_type": "code",
   "execution_count": 193,
   "metadata": {},
   "outputs": [],
   "source": [
    "import pandas as pd\n",
    "import matplotlib.pyplot as plt\n",
    "import seaborn as sns\n",
    "from scipy import stats"
   ]
  },
  {
   "cell_type": "code",
   "execution_count": 194,
   "metadata": {},
   "outputs": [
    {
     "data": {
      "text/html": [
       "<div>\n",
       "<style scoped>\n",
       "    .dataframe tbody tr th:only-of-type {\n",
       "        vertical-align: middle;\n",
       "    }\n",
       "\n",
       "    .dataframe tbody tr th {\n",
       "        vertical-align: top;\n",
       "    }\n",
       "\n",
       "    .dataframe thead th {\n",
       "        text-align: right;\n",
       "    }\n",
       "</style>\n",
       "<table border=\"1\" class=\"dataframe\">\n",
       "  <thead>\n",
       "    <tr style=\"text-align: right;\">\n",
       "      <th></th>\n",
       "      <th>date</th>\n",
       "      <th>close</th>\n",
       "    </tr>\n",
       "  </thead>\n",
       "  <tbody>\n",
       "    <tr>\n",
       "      <th>0</th>\n",
       "      <td>2014-02-28</td>\n",
       "      <td>1979.99</td>\n",
       "    </tr>\n",
       "    <tr>\n",
       "      <th>1</th>\n",
       "      <td>2014-03-03</td>\n",
       "      <td>1964.69</td>\n",
       "    </tr>\n",
       "    <tr>\n",
       "      <th>2</th>\n",
       "      <td>2014-03-04</td>\n",
       "      <td>1954.11</td>\n",
       "    </tr>\n",
       "    <tr>\n",
       "      <th>3</th>\n",
       "      <td>2014-03-05</td>\n",
       "      <td>1971.24</td>\n",
       "    </tr>\n",
       "    <tr>\n",
       "      <th>4</th>\n",
       "      <td>2014-03-06</td>\n",
       "      <td>1975.62</td>\n",
       "    </tr>\n",
       "  </tbody>\n",
       "</table>\n",
       "</div>"
      ],
      "text/plain": [
       "        date    close\n",
       "0 2014-02-28  1979.99\n",
       "1 2014-03-03  1964.69\n",
       "2 2014-03-04  1954.11\n",
       "3 2014-03-05  1971.24\n",
       "4 2014-03-06  1975.62"
      ]
     },
     "execution_count": 194,
     "metadata": {},
     "output_type": "execute_result"
    }
   ],
   "source": [
    "# 삼성전자 주가, 국고채 3년물, KOSPI 데이터 로드\n",
    "\n",
    "samsung = pd.read_pickle('./mydata/SamsungElectronics.pkl')\n",
    "samsung.date = pd.to_datetime(samsung.date)\n",
    "samsung.rename({'삼성전자':'samsung_close'}, axis=1, inplace=True)\n",
    "samsung.samsung_close = pd.to_numeric(samsung.samsung_close)\n",
    "\n",
    "macro_kor = pd.read_pickle('./data_provided/macro_kor.pkl')\n",
    "macro_kor.date = pd.to_datetime(macro_kor.date)\n",
    "BOK_3y = macro_kor[['date', 'KOR_bond_3y']]\n",
    "\n",
    "KOSPI = pd.read_pickle('./data_provided/KOSPI_stats.pkl') #월별\n",
    "KOSPI.date = pd.to_datetime(KOSPI.date)\n",
    "KOSPI = KOSPI[['date', 'close']]\n",
    "KOSPI.head()\n",
    "\n",
    "xls = pd.ExcelFile('./mydata/KRX_KOSPI_series_20140228-20190228.xls')\n",
    "KOSPI_daily = pd.read_excel(xls, 'Sheet1')\n",
    "KOSPI_daily = KOSPI_daily[['일자', '현재지수']]\n",
    "KOSPI_daily.rename({'일자':'date', '현재지수':'close'}, axis=1, inplace=True)\n",
    "KOSPI_daily.date = pd.to_datetime(KOSPI_daily.date)\n",
    "KOSPI_daily.close = pd.to_numeric(KOSPI_daily.close.str.replace(',', ''), errors='coerce')\n",
    "# KOSPI_daily.close = KOSPI_daily.close.astype(float) # to_numeric은 decimal comma (eg: 1,900.33) 처리를 못한다. \n",
    "KOSPI_daily.head()"
   ]
  },
  {
   "cell_type": "code",
   "execution_count": 195,
   "metadata": {},
   "outputs": [
    {
     "data": {
      "text/plain": [
       "1.85603392877489"
      ]
     },
     "execution_count": 195,
     "metadata": {},
     "output_type": "execute_result"
    }
   ],
   "source": [
    "# 국고채 3년물 연수익률로 Rf (Risk-free rate) 계산\n",
    "# 최근 5년의 기하평균.\n",
    "\n",
    "start_date = '03-01-2014'\n",
    "end_date = '02-28-2019'\n",
    "\n",
    "BOK_3y = BOK_3y[BOK_3y.date >= start_date]\n",
    "BOK_3y.drop(BOK_3y.tail(1).index, inplace=True)\n",
    "\n",
    "Rf = stats.gmean(BOK_3y.KOR_bond_3y, axis=0)\n",
    "Rf # % (연수익률) "
   ]
  },
  {
   "cell_type": "code",
   "execution_count": 196,
   "metadata": {},
   "outputs": [
    {
     "data": {
      "text/html": [
       "<div>\n",
       "<style scoped>\n",
       "    .dataframe tbody tr th:only-of-type {\n",
       "        vertical-align: middle;\n",
       "    }\n",
       "\n",
       "    .dataframe tbody tr th {\n",
       "        vertical-align: top;\n",
       "    }\n",
       "\n",
       "    .dataframe thead th {\n",
       "        text-align: right;\n",
       "    }\n",
       "</style>\n",
       "<table border=\"1\" class=\"dataframe\">\n",
       "  <thead>\n",
       "    <tr style=\"text-align: right;\">\n",
       "      <th></th>\n",
       "      <th>date</th>\n",
       "      <th>KOR_bond_3y</th>\n",
       "    </tr>\n",
       "  </thead>\n",
       "  <tbody>\n",
       "    <tr>\n",
       "      <th>154</th>\n",
       "      <td>2018-11-01</td>\n",
       "      <td>1.895</td>\n",
       "    </tr>\n",
       "    <tr>\n",
       "      <th>155</th>\n",
       "      <td>2018-12-01</td>\n",
       "      <td>1.823</td>\n",
       "    </tr>\n",
       "    <tr>\n",
       "      <th>156</th>\n",
       "      <td>2019-01-01</td>\n",
       "      <td>1.810</td>\n",
       "    </tr>\n",
       "    <tr>\n",
       "      <th>157</th>\n",
       "      <td>2019-02-01</td>\n",
       "      <td>1.812</td>\n",
       "    </tr>\n",
       "    <tr>\n",
       "      <th>158</th>\n",
       "      <td>2019-03-01</td>\n",
       "      <td>1.690</td>\n",
       "    </tr>\n",
       "  </tbody>\n",
       "</table>\n",
       "</div>"
      ],
      "text/plain": [
       "          date  KOR_bond_3y\n",
       "154 2018-11-01        1.895\n",
       "155 2018-12-01        1.823\n",
       "156 2019-01-01        1.810\n",
       "157 2019-02-01        1.812\n",
       "158 2019-03-01        1.690"
      ]
     },
     "execution_count": 196,
     "metadata": {},
     "output_type": "execute_result"
    }
   ],
   "source": [
    "BOK_3y.tail()"
   ]
  },
  {
   "cell_type": "code",
   "execution_count": 197,
   "metadata": {},
   "outputs": [
    {
     "data": {
      "text/plain": [
       "2.087299384974095"
      ]
     },
     "execution_count": 197,
     "metadata": {},
     "output_type": "execute_result"
    }
   ],
   "source": [
    "# 코스피로 Rm (Rate of market return) 계산\n",
    "# 최근 5년의 기하평균\n",
    "\n",
    "KOSPI['rateofchange'] = KOSPI.close.pct_change() # Some rate of returns are negative. We need a workaround by adding 1 and subtracting after. \n",
    "KOSPI = KOSPI[(KOSPI.date >= start_date) & (KOSPI.date <= end_date)] \n",
    "KOSPI.rateofchange = KOSPI.rateofchange + 1\n",
    "\n",
    "Rm = stats.gmean(KOSPI.rateofchange, axis=0) # 월수익률\n",
    "Rm = (Rm**12 - 1)*100 # 변환\n",
    "Rm # % (연수익률)"
   ]
  },
  {
   "cell_type": "code",
   "execution_count": 198,
   "metadata": {},
   "outputs": [],
   "source": [
    "# 삼성전자의 Beta 추정\n",
    "# 최근 1년의 데이터를 사용\n",
    "\n",
    "year_start_date = '05-25-2018'\n",
    "year_end_date = '05-24-2019'\n",
    "\n",
    "KOSPI_daily['KOSPI_rateofchange'] = KOSPI_daily.close.pct_change() # 코스피 daily return\n",
    "KOSPI_daily = KOSPI_daily[(KOSPI_daily.date >= year_start_date) & (KOSPI_daily.date <= year_end_date)]\n",
    "\n",
    "samsung['samsung_rateofchange'] = samsung.samsung_close.pct_change() # 삼성전자 daily return\n",
    "samsung = samsung[(samsung.date >= year_start_date) & (samsung.date <= year_end_date)]"
   ]
  },
  {
   "cell_type": "code",
   "execution_count": 199,
   "metadata": {},
   "outputs": [
    {
     "data": {
      "text/html": [
       "<div>\n",
       "<style scoped>\n",
       "    .dataframe tbody tr th:only-of-type {\n",
       "        vertical-align: middle;\n",
       "    }\n",
       "\n",
       "    .dataframe tbody tr th {\n",
       "        vertical-align: top;\n",
       "    }\n",
       "\n",
       "    .dataframe thead th {\n",
       "        text-align: right;\n",
       "    }\n",
       "</style>\n",
       "<table border=\"1\" class=\"dataframe\">\n",
       "  <thead>\n",
       "    <tr style=\"text-align: right;\">\n",
       "      <th></th>\n",
       "      <th>date</th>\n",
       "      <th>close</th>\n",
       "      <th>KOSPI_rateofchange</th>\n",
       "    </tr>\n",
       "  </thead>\n",
       "  <tbody>\n",
       "    <tr>\n",
       "      <th>1040</th>\n",
       "      <td>2018-05-25</td>\n",
       "      <td>2460.80</td>\n",
       "      <td>-0.002113</td>\n",
       "    </tr>\n",
       "    <tr>\n",
       "      <th>1041</th>\n",
       "      <td>2018-05-28</td>\n",
       "      <td>2478.96</td>\n",
       "      <td>0.007380</td>\n",
       "    </tr>\n",
       "    <tr>\n",
       "      <th>1042</th>\n",
       "      <td>2018-05-29</td>\n",
       "      <td>2457.25</td>\n",
       "      <td>-0.008758</td>\n",
       "    </tr>\n",
       "    <tr>\n",
       "      <th>1043</th>\n",
       "      <td>2018-05-30</td>\n",
       "      <td>2409.03</td>\n",
       "      <td>-0.019624</td>\n",
       "    </tr>\n",
       "    <tr>\n",
       "      <th>1044</th>\n",
       "      <td>2018-05-31</td>\n",
       "      <td>2423.01</td>\n",
       "      <td>0.005803</td>\n",
       "    </tr>\n",
       "  </tbody>\n",
       "</table>\n",
       "</div>"
      ],
      "text/plain": [
       "           date    close  KOSPI_rateofchange\n",
       "1040 2018-05-25  2460.80           -0.002113\n",
       "1041 2018-05-28  2478.96            0.007380\n",
       "1042 2018-05-29  2457.25           -0.008758\n",
       "1043 2018-05-30  2409.03           -0.019624\n",
       "1044 2018-05-31  2423.01            0.005803"
      ]
     },
     "execution_count": 199,
     "metadata": {},
     "output_type": "execute_result"
    }
   ],
   "source": [
    "KOSPI_daily.head()"
   ]
  },
  {
   "cell_type": "code",
   "execution_count": 200,
   "metadata": {},
   "outputs": [
    {
     "data": {
      "text/html": [
       "<div>\n",
       "<style scoped>\n",
       "    .dataframe tbody tr th:only-of-type {\n",
       "        vertical-align: middle;\n",
       "    }\n",
       "\n",
       "    .dataframe tbody tr th {\n",
       "        vertical-align: top;\n",
       "    }\n",
       "\n",
       "    .dataframe thead th {\n",
       "        text-align: right;\n",
       "    }\n",
       "</style>\n",
       "<table border=\"1\" class=\"dataframe\">\n",
       "  <thead>\n",
       "    <tr style=\"text-align: right;\">\n",
       "      <th></th>\n",
       "      <th>date</th>\n",
       "      <th>samsung_close</th>\n",
       "      <th>samsung_rateofchange</th>\n",
       "    </tr>\n",
       "  </thead>\n",
       "  <tbody>\n",
       "    <tr>\n",
       "      <th>326</th>\n",
       "      <td>2018-05-25</td>\n",
       "      <td>52700</td>\n",
       "      <td>0.025292</td>\n",
       "    </tr>\n",
       "    <tr>\n",
       "      <th>327</th>\n",
       "      <td>2018-05-28</td>\n",
       "      <td>52300</td>\n",
       "      <td>-0.007590</td>\n",
       "    </tr>\n",
       "    <tr>\n",
       "      <th>328</th>\n",
       "      <td>2018-05-29</td>\n",
       "      <td>51300</td>\n",
       "      <td>-0.019120</td>\n",
       "    </tr>\n",
       "    <tr>\n",
       "      <th>329</th>\n",
       "      <td>2018-05-30</td>\n",
       "      <td>49500</td>\n",
       "      <td>-0.035088</td>\n",
       "    </tr>\n",
       "    <tr>\n",
       "      <th>330</th>\n",
       "      <td>2018-05-31</td>\n",
       "      <td>50700</td>\n",
       "      <td>0.024242</td>\n",
       "    </tr>\n",
       "  </tbody>\n",
       "</table>\n",
       "</div>"
      ],
      "text/plain": [
       "          date  samsung_close  samsung_rateofchange\n",
       "326 2018-05-25          52700              0.025292\n",
       "327 2018-05-28          52300             -0.007590\n",
       "328 2018-05-29          51300             -0.019120\n",
       "329 2018-05-30          49500             -0.035088\n",
       "330 2018-05-31          50700              0.024242"
      ]
     },
     "execution_count": 200,
     "metadata": {},
     "output_type": "execute_result"
    }
   ],
   "source": [
    "samsung.head()"
   ]
  },
  {
   "cell_type": "code",
   "execution_count": 202,
   "metadata": {},
   "outputs": [
    {
     "data": {
      "text/html": [
       "<div>\n",
       "<style scoped>\n",
       "    .dataframe tbody tr th:only-of-type {\n",
       "        vertical-align: middle;\n",
       "    }\n",
       "\n",
       "    .dataframe tbody tr th {\n",
       "        vertical-align: top;\n",
       "    }\n",
       "\n",
       "    .dataframe thead th {\n",
       "        text-align: right;\n",
       "    }\n",
       "</style>\n",
       "<table border=\"1\" class=\"dataframe\">\n",
       "  <thead>\n",
       "    <tr style=\"text-align: right;\">\n",
       "      <th></th>\n",
       "      <th>date</th>\n",
       "      <th>close</th>\n",
       "      <th>KOSPI_rateofchange</th>\n",
       "      <th>samsung_close</th>\n",
       "      <th>samsung_rateofchange</th>\n",
       "    </tr>\n",
       "  </thead>\n",
       "  <tbody>\n",
       "    <tr>\n",
       "      <th>0</th>\n",
       "      <td>2018-05-25</td>\n",
       "      <td>2460.80</td>\n",
       "      <td>-0.002113</td>\n",
       "      <td>52700</td>\n",
       "      <td>0.025292</td>\n",
       "    </tr>\n",
       "    <tr>\n",
       "      <th>1</th>\n",
       "      <td>2018-05-28</td>\n",
       "      <td>2478.96</td>\n",
       "      <td>0.007380</td>\n",
       "      <td>52300</td>\n",
       "      <td>-0.007590</td>\n",
       "    </tr>\n",
       "    <tr>\n",
       "      <th>2</th>\n",
       "      <td>2018-05-29</td>\n",
       "      <td>2457.25</td>\n",
       "      <td>-0.008758</td>\n",
       "      <td>51300</td>\n",
       "      <td>-0.019120</td>\n",
       "    </tr>\n",
       "    <tr>\n",
       "      <th>3</th>\n",
       "      <td>2018-05-30</td>\n",
       "      <td>2409.03</td>\n",
       "      <td>-0.019624</td>\n",
       "      <td>49500</td>\n",
       "      <td>-0.035088</td>\n",
       "    </tr>\n",
       "    <tr>\n",
       "      <th>4</th>\n",
       "      <td>2018-05-31</td>\n",
       "      <td>2423.01</td>\n",
       "      <td>0.005803</td>\n",
       "      <td>50700</td>\n",
       "      <td>0.024242</td>\n",
       "    </tr>\n",
       "  </tbody>\n",
       "</table>\n",
       "</div>"
      ],
      "text/plain": [
       "        date    close  KOSPI_rateofchange  samsung_close  samsung_rateofchange\n",
       "0 2018-05-25  2460.80           -0.002113          52700              0.025292\n",
       "1 2018-05-28  2478.96            0.007380          52300             -0.007590\n",
       "2 2018-05-29  2457.25           -0.008758          51300             -0.019120\n",
       "3 2018-05-30  2409.03           -0.019624          49500             -0.035088\n",
       "4 2018-05-31  2423.01            0.005803          50700              0.024242"
      ]
     },
     "execution_count": 202,
     "metadata": {},
     "output_type": "execute_result"
    }
   ],
   "source": [
    "# KOSPI_daily.reset_index(drop=True, inplace=True)\n",
    "# samsung.reset_index(drop=True, inplace=True) # reset_index가 없으면 서로 index가 맞지 않아 samsung이 NaN이 생성됨. \n",
    "\n",
    "# samsung_KOSPI = pd.concat([KOSPI_daily, samsung], join='left', ignore_index=True, keys='date')\n",
    "# 안된다. Concat 사용법 다시 익히자. \n",
    "\n",
    "samsung_KOSPI = pd.merge(KOSPI_daily, samsung, on='date')\n",
    "samsung_KOSPI.head()"
   ]
  },
  {
   "cell_type": "code",
   "execution_count": 208,
   "metadata": {},
   "outputs": [
    {
     "data": {
      "image/png": "[encoded data removed]",
      "text/plain": [
       "<Figure size 432x288 with 1 Axes>"
      ]
     },
     "metadata": {
      "needs_background": "light"
     },
     "output_type": "display_data"
    }
   ],
   "source": [
    "# Y축에 삼성전자 수익률, X축에 시장 수익률을 놓고 Linear Regression한다. \n",
    "slope, intercept, r_value, p_value, std_err = stats.linregress(samsung_KOSPI.KOSPI_rateofchange, samsung_KOSPI.samsung_rateofchange)\n",
    "\n",
    "x = samsung_KOSPI.KOSPI_rateofchange\n",
    "y = samsung_KOSPI.samsung_rateofchange\n",
    "\n",
    "plt.plot(x, y, 'o', label='data points')\n",
    "plt.plot(x, intercept + slope*x, label='fitted line')\n",
    "\n",
    "plt.axhline(0, color='black')\n",
    "plt.axvline(0, color='black')\n",
    "\n",
    "plt.legend()\n",
    "plt.show()\n",
    "\n",
    "print"
   ]
  },
  {
   "cell_type": "code",
   "execution_count": 215,
   "metadata": {},
   "outputs": [
    {
     "name": "stdout",
     "output_type": "stream",
     "text": [
      "\n",
      "Regression line: y = 0.0001689371490473571 + 1.2707183529827124 * x\n",
      "\n",
      "\n",
      "- R-squared: 0.5159477403832252\n",
      "\n",
      "- Standard Error: 0.09073684188656382\n",
      "\n",
      "- P-value: 8.328397467585863e-31\n",
      "\n"
     ]
    }
   ],
   "source": [
    "# slope가 우리가 찾는 Beta이다. \n",
    "\n",
    "print(\"\"\"\n",
    "Regression line: y = {intercept} + {slope} * x\n",
    "\n",
    "\n",
    "- R-squared: {r_value}\n",
    "\n",
    "- Standard Error: {std_err}\n",
    "\n",
    "- P-value: {p_value}\n",
    "\"\"\".format(intercept=intercept, slope=slope, r_value=r_value**2, std_err=std_err, p_value=p_value))"
   ]
  },
  {
   "cell_type": "code",
   "execution_count": 219,
   "metadata": {},
   "outputs": [
    {
     "name": "stdout",
     "output_type": "stream",
     "text": [
      "\n",
      "무위험 수익률 Rf = 1.85603392877489\n",
      "\n",
      "시장 수익률 Rm = 2.087299384974095\n",
      "\n",
      "삼성전자의 Beta = 1.2707183529827124\n",
      "\n",
      "이니까 \n",
      "\n",
      "\n",
      "CAPM을 계산하면\n",
      "\n",
      "R_samsung = Rf + B * (Rm - Rf) \n",
      "          = 1.85603392877489 + 1.2707183529827124 * 0.23126545619920513\n",
      "          = {2.1499071883781395}\n",
      "\n",
      "\n"
     ]
    }
   ],
   "source": [
    "# Calculate CAPM\n",
    "\n",
    "print(\"\"\"\n",
    "무위험 수익률 Rf = {Rf}\n",
    "\n",
    "시장 수익률 Rm = {Rm}\n",
    "\n",
    "삼성전자의 Beta = {slope}\n",
    "\n",
    "이니까 \n",
    "\n",
    "\n",
    "CAPM을 계산하면\n",
    "\n",
    "R_samsung = Rf + B * (Rm - Rf) \n",
    "          = {Rf} + {slope} * {Rm_Rf}\n",
    "          = {R_samsung}\n",
    "\n",
    "\"\"\".format(Rf=Rf, Rm=Rm, slope=slope, Rm_Rf=Rm-Rf, R_samsung={Rf+slope*(Rm-Rf)}))"
   ]
  },
  {
   "cell_type": "code",
   "execution_count": null,
   "metadata": {},
   "outputs": [],
   "source": []
  }
 ],
 "metadata": {
  "kernelspec": {
   "display_name": "Python 3",
   "language": "python",
   "name": "python3"
  },
  "language_info": {
   "codemirror_mode": {
    "name": "ipython",
    "version": 3
   },
   "file_extension": ".py",
   "mimetype": "text/x-python",
   "name": "python",
   "nbconvert_exporter": "python",
   "pygments_lexer": "ipython3",
   "version": "3.6.5"
  }
 },
 "nbformat": 4,
 "nbformat_minor": 2
}
